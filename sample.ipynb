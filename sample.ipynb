{
 "cells": [
  {
   "cell_type": "code",
   "execution_count": null,
   "metadata": {},
   "outputs": [],
   "source": [
    "import cv2 \n",
    "import os.path as osp\n",
    "import os\n",
    "import glob\n",
    "from mmdet.apis import inference_detector, init_detector\n",
    "from mmpose.apis import inference_top_down_pose_model, init_pose_model,process_mmdet_results,vis_pose_result\n",
    "import mmcv\n",
    "import numpy as np\n",
    "import shutil\n"
   ]
  },
  {
   "cell_type": "code",
   "execution_count": null,
   "metadata": {},
   "outputs": [],
   "source": [
    "# pose_config = 'mmpose/configs/body/2d_kpt_sview_rgb_img/topdown_heatmap/coco/hrnet_w48_coco_256x192.py'\n",
    "# pose_checkpoint = 'hrnet_w48_coco_256x192-b9e0b3ab_20200708.pth'\n",
    "# ###########\n",
    "# det_config = 'Pose/yolox_s_8x8_300e_coco.py'\n",
    "# det_checkpoint = 'Pose/yolox_s_8x8_300e_coco_20211121_095711-4592a793.pth'\n",
    "###############\n",
    "pose_config = 'Pose/hrnet_w48_coco_256x192.py'\n",
    "pose_checkpoint = 'Pose/hrnet_w48_coco_256x192-b9e0b3ab_20200708.pth'\n",
    "###########\n",
    "det_config = 'Pose/yolox_s_8x8_300e_coco.py'\n",
    "det_checkpoint = 'Pose/yolox_s_8x8_300e_coco_20211121_095711-4592a793.pth'\n",
    "##############\n",
    "# initialize pose model\n",
    "pose_model = init_pose_model(pose_config, pose_checkpoint)\n",
    "# initialize detector\n",
    "det_model = init_detector(det_config, det_checkpoint)\n",
    "\n",
    "def extract_frame(video_path):\n",
    "    dname = 'temp'\n",
    "    os.makedirs(dname, exist_ok=True)\n",
    "    frame_tmpl = osp.join(dname, 'img_{:05d}.jpg')\n",
    "    cap = cv2.VideoCapture(video_path)\n",
    "    frame_paths = []\n",
    "    cnt = 0\n",
    "    while(cap.isOpened()):\n",
    "        flag, frame = cap.read()\n",
    "        if flag:\n",
    "            frame_path = frame_tmpl.format(cnt + 1)\n",
    "            frame_paths.append(frame_path)\n",
    "            frame=cv2.resize(frame,(640,480))\n",
    "            cv2.imwrite(frame_path, frame)\n",
    "            cnt += 1\n",
    "        else: break\n",
    "    cap.release()\n",
    "    return frame_paths\n",
    "\n",
    "def detection_inference(det_config, det_checkpoint ,frame_paths, det_score_thr=0.5,device='cuda' ):\n",
    "    model = init_detector(det_config, det_checkpoint, device)\n",
    "    assert model.CLASSES[0] == 'person', ('We require you to use a detector '\n",
    "                                          'trained on COCO')\n",
    "    results = []\n",
    "    print('Performing Human Detection for each frame')\n",
    "    prog_bar = mmcv.ProgressBar(len(frame_paths))\n",
    "    for frame_path in frame_paths:\n",
    "        result = inference_detector(model, frame_path)\n",
    "        # We only keep human detections with score larger than det_score_thr\n",
    "        result = result[0][result[0][:, 4] >= det_score_thr]\n",
    "        results.append(result)\n",
    "        prog_bar.update()\n",
    "    return results\n",
    "\n",
    "def pose_inference(pose_config,pose_checkpoint, frame_paths,image_shape, det_results, device='cuda'):\n",
    "    model = init_pose_model(pose_config, pose_checkpoint, device)\n",
    "    print('Performing Human Pose Estimation for each frame')\n",
    "    prog_bar = mmcv.ProgressBar(len(frame_paths))\n",
    "\n",
    "    num_frame = len(det_results)\n",
    "    num_person = max([len(x) for x in det_results])\n",
    "    if num_person == 0:\n",
    "        kp = np.zeros((1, num_frame, 17, 3), dtype=np.float32)\n",
    "        return kp    \n",
    "    kp = np.zeros((num_person, num_frame, 17, 3), dtype=np.float32)\n",
    "    for i, (f, d) in enumerate(zip(frame_paths, det_results)):\n",
    "        # Align input format\n",
    "        if len(d) == 0: \n",
    "            prog_bar.update()\n",
    "            continue\n",
    "        d = [dict(bbox=x) for x in list(d) if x[-1] > 0.5]\n",
    "        pose = inference_top_down_pose_model(model, f, d, format='xyxy')[0]\n",
    "        vis_ske = vis_pose_result(model,f,pose,dataset=model.cfg.data.test.type,show=False)\n",
    "        if cv2.waitKey(20)& 0xFF==ord('q'): break\n",
    "        cv2.imshow('',vis_ske)\n",
    "        for j, item in enumerate(pose):\n",
    "            #kp and score (x,y,score) / (widt,heigt,1)\n",
    "            # normkp = item['keypoints']/(image_shape + (1,)) \n",
    "            # kp[j, i] = normkp\n",
    "            kp[j,i] = item['keypoints']\n",
    "        prog_bar.update()\n",
    "    cv2.destroyAllWindows()\n",
    "    return kp\n",
    "\n",
    "def pose_extraction(vid,det_config, det_checkpoint,pose_config,pose_checkpoint,label, det_score_thr=0.5,device='cuda'):\n",
    "    frame_paths = extract_frame(vid)\n",
    "    det_results = detection_inference(det_config, det_checkpoint ,frame_paths, det_score_thr,device)\n",
    "    image = cv2.imread(frame_paths[0])\n",
    "    image_shape = (image.shape[1], image.shape[0])\n",
    "    pose_results = pose_inference(pose_config,pose_checkpoint, frame_paths,image_shape, det_results, device)\n",
    "    anno = dict()\n",
    "    anno['kp'] = pose_results\n",
    "    anno['img_shape'] = image_shape\n",
    "    # anno['original_shape'] = image_shape\n",
    "    anno['total_frames'] = pose_results.shape[1]\n",
    "    anno['label'] = label\n",
    "    shutil.rmtree(osp.dirname(frame_paths[0]))\n",
    "    return anno\n"
   ]
  },
  {
   "cell_type": "code",
   "execution_count": null,
   "metadata": {},
   "outputs": [],
   "source": [
    "# file='C:/Users/PhuTuan/Downloads/Video/Data_fall_171.mp4'"
   ]
  },
  {
   "cell_type": "code",
   "execution_count": null,
   "metadata": {},
   "outputs": [],
   "source": [
    "# anno = pose_extraction(file, det_config, det_checkpoint,pose_config,pose_checkpoint,label=1)"
   ]
  },
  {
   "cell_type": "code",
   "execution_count": null,
   "metadata": {},
   "outputs": [],
   "source": [
    "\n",
    "# files=glob.glob('VIDEO_TEST/*.mp4')\n",
    "# file='VIDEO_TEST/VIDEO11.mp4'\n",
    "lstfile = []\n",
    "lstfile.append(sorted(glob.glob('TRAIN/NOT FALL/*.mp4'),key=os.path.getmtime))\n",
    "lstfile.append(sorted(glob.glob('TRAIN/FALL/*.mp4'),key=os.path.getmtime))\n",
    "# lstfile.append(sorted(glob.glob('Video_Lying/*.mp4'),key=os.path.getmtime))\n",
    "# lstfile=sorted(key=os.path.getmtime)\n",
    "anno_train = []\n",
    "for index,files in enumerate(lstfile):\n",
    "    for file in files:\n",
    "        print('Processing ' + file)\n",
    "        anno = pose_extraction(file, det_config, det_checkpoint,pose_config,pose_checkpoint,label=index) #LABEL NOT_FALL\n",
    "        anno_train.append(anno)"
   ]
  },
  {
   "cell_type": "code",
   "execution_count": null,
   "metadata": {},
   "outputs": [],
   "source": [
    "mmcv.dump(anno, 'Data/train1.pkl')"
   ]
  },
  {
   "cell_type": "code",
   "execution_count": null,
   "metadata": {},
   "outputs": [],
   "source": [
    "# file_test='Video_Lying/VIDEO1_4.mp4'\n",
    "# print('Processing ' + file_test)\n",
    "# anno = pose_extraction(file_test, det_config, det_checkpoint,pose_config,pose_checkpoint,label=2) #LABEL NOT_FALL\n",
    "# # anno_train.append(anno)"
   ]
  },
  {
   "cell_type": "code",
   "execution_count": null,
   "metadata": {},
   "outputs": [],
   "source": [
    "# anno"
   ]
  },
  {
   "cell_type": "code",
   "execution_count": null,
   "metadata": {},
   "outputs": [],
   "source": [
    "# for frame in frame_paths:\n",
    "#     img = cv2.imread(frame)\n",
    "#     if cv2.waitKey(20)& 0xFF==ord('q'): break\n",
    "#     cv2.imshow('',img)\n",
    "# cv2.destroyAllWindows()"
   ]
  },
  {
   "cell_type": "code",
   "execution_count": null,
   "metadata": {},
   "outputs": [],
   "source": [
    "# model = init_pose_model(pose_config, pose_checkpoint, 'cuda')\n",
    "# print('Performing Human Pose Estimation for each frame')\n",
    "# prog_bar = mmcv.ProgressBar(len(frame_paths))\n",
    "\n",
    "# num_frame = len(results)\n",
    "# num_person = max([len(x) for x in results])\n",
    "# kp = np.zeros((num_person, num_frame, 17, 3), dtype=np.float32)\n",
    "# for i, (f, d) in enumerate(zip(frame_paths, results)):\n",
    "#     # Align input format\n",
    "#     d = [dict(bbox=x) for x in list(d) if x[-1] > 0.5]\n",
    "#     pose = inference_top_down_pose_model(model, f, d, format='xyxy')[0]\n",
    "#     for j, item in enumerate(pose):\n",
    "#         kp[j, i] = item['keypoints']\n",
    "#     prog_bar.update()\n"
   ]
  },
  {
   "cell_type": "code",
   "execution_count": null,
   "metadata": {},
   "outputs": [],
   "source": [
    "# # model = init_detector(det_config, det_checkpoint)\n",
    "# # assert model.CLASSES[0] == 'person', ('We require you to use a detector '\n",
    "# #                                         'trained on COCO')\n",
    "# # results = []\n",
    "# # print('Performing Human Detection for each frame')\n",
    "# # prog_bar = mmcv.ProgressBar(len(frame_paths))\n",
    "# # det_score_thr=0.5\n",
    "# # for frame_path in frame_paths:\n",
    "# #     result_det = inference_detector(model, frame_path)\n",
    "# #     # We only keep human detections with score larger than det_score_thr\n",
    "# #     result = result_det[0][result_det[0][:, 4] >= det_score_thr]\n",
    "# #     results.append(result)\n",
    "# #     prog_bar.update()\n",
    "# ashape=(2,2)\n",
    "# bshape=ashape+(1,)\n",
    "# bshape"
   ]
  },
  {
   "cell_type": "code",
   "execution_count": null,
   "metadata": {},
   "outputs": [],
   "source": [
    "# image = cv2.imread(frame_paths[0])\n",
    "# image_shape = (image.shape[0], image.shape[1])\n",
    "# pose_results = pose_inference(pose_config,pose_checkpoint, frame_paths, results)"
   ]
  },
  {
   "cell_type": "code",
   "execution_count": null,
   "metadata": {},
   "outputs": [],
   "source": [
    "# pose_results[0,5]"
   ]
  },
  {
   "cell_type": "code",
   "execution_count": null,
   "metadata": {},
   "outputs": [],
   "source": [
    "# a=pose_results[...,:2]\n",
    "# a[0,5]"
   ]
  },
  {
   "cell_type": "code",
   "execution_count": null,
   "metadata": {},
   "outputs": [],
   "source": [
    "# anno['kp_score'][0,5]"
   ]
  },
  {
   "cell_type": "code",
   "execution_count": null,
   "metadata": {},
   "outputs": [],
   "source": [
    "# anno['kp'][0,5]"
   ]
  },
  {
   "cell_type": "code",
   "execution_count": null,
   "metadata": {},
   "outputs": [],
   "source": [
    "mmcv.dump(anno, 'Data/train1.pkl')\n",
    "# import pandas as pds\n",
    "# data=pds.read_pickle('train.pkl')\n"
   ]
  },
  {
   "cell_type": "code",
   "execution_count": null,
   "metadata": {},
   "outputs": [],
   "source": [
    "len(anno_train)"
   ]
  },
  {
   "cell_type": "code",
   "execution_count": null,
   "metadata": {},
   "outputs": [],
   "source": [
    "# data[0]"
   ]
  },
  {
   "cell_type": "code",
   "execution_count": null,
   "metadata": {},
   "outputs": [],
   "source": [
    "# type('train.pkl')"
   ]
  }
 ],
 "metadata": {
  "kernelspec": {
   "display_name": "pythonProject",
   "language": "python",
   "name": "python3"
  },
  "language_info": {
   "codemirror_mode": {
    "name": "ipython",
    "version": 3
   },
   "file_extension": ".py",
   "mimetype": "text/x-python",
   "name": "python",
   "nbconvert_exporter": "python",
   "pygments_lexer": "ipython3",
   "version": "3.10.9"
  },
  "orig_nbformat": 4
 },
 "nbformat": 4,
 "nbformat_minor": 2
}
