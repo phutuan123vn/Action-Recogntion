{
 "cells": [
  {
   "cell_type": "code",
   "execution_count": 3,
   "metadata": {},
   "outputs": [
    {
     "name": "stderr",
     "output_type": "stream",
     "text": [
      "c:\\Users\\PhuTuan\\anaconda3\\envs\\pythonProject\\lib\\site-packages\\tqdm\\auto.py:22: TqdmWarning: IProgress not found. Please update jupyter and ipywidgets. See https://ipywidgets.readthedocs.io/en/stable/user_install.html\n",
      "  from .autonotebook import tqdm as notebook_tqdm\n"
     ]
    }
   ],
   "source": [
    "from Model.model import ModelSTGCN\n",
    "import torch\n",
    "from torch.utils.data import DataLoader,Dataset\n",
    "import pandas as pds\n",
    "import numpy as np\n",
    "import torch.nn as nn"
   ]
  },
  {
   "cell_type": "code",
   "execution_count": 4,
   "metadata": {},
   "outputs": [],
   "source": [
    "class ActionDataset(Dataset):\n",
    "    def __init__(self,Transform=None):\n",
    "        super().__init__()\n",
    "        # assert all(param is not None for param in [Data,label]),\"Data and label must be give in\"\n",
    "        self.transform = Transform\n",
    "        self.lst=[]\n",
    "        self.label=[]\n",
    "        # self.append(Data,label)\n",
    "\n",
    "    def __getitem__(self, index):\n",
    "        sample = self.lst[index],self.label[index]\n",
    "        if self.transform:\n",
    "            sample=self.transform(sample)\n",
    "        return sample\n",
    "    \n",
    "    def __len__(self):\n",
    "        return self.leng\n",
    "    \n",
    "    def SetTrans(self,Transform):\n",
    "        self.transform=Transform\n",
    "    \n",
    "    def append(self,Data):\n",
    "        # super().__init__()\n",
    "        # assert all(param is not None for param in [Data,label]),\"Data and label must be give in\"\n",
    "        # assert label==None,\"Label must be give\"\n",
    "        kpscore = np.expand_dims(Data['keypoint_score'][0],axis=2)\n",
    "        kp = Data['keypoint'][0]\n",
    "        data = np.concatenate((kp,kpscore),axis=2)\n",
    "        # data = np.expand_dims(data,axis=0)\n",
    "        label = Data['label']\n",
    "        self.lst.append(data)\n",
    "        self.label.append(label)\n",
    "        self.leng=len(self.lst)  \n",
    "\n",
    "class ToTensor():\n",
    "    def __call__(self,sample):\n",
    "        data,label=sample\n",
    "        return torch.from_numpy(data.astype(np.float32)),torch.tensor(label)"
   ]
  },
  {
   "cell_type": "code",
   "execution_count": 5,
   "metadata": {},
   "outputs": [],
   "source": [
    "# a=torch.rand(2,1).argmax(dim=0)\n",
    "# val =a.item()"
   ]
  },
  {
   "cell_type": "code",
   "execution_count": 6,
   "metadata": {},
   "outputs": [],
   "source": [
    "# torch.__version__"
   ]
  },
  {
   "cell_type": "code",
   "execution_count": 7,
   "metadata": {},
   "outputs": [],
   "source": [
    "def Train_epoch(model=None,loss_fn=None,train_loader=None,optimizer=None,device='cuda'):\n",
    "    device=torch.device(device if torch.cuda.is_available() else 'cpu')\n",
    "    model.to(device)\n",
    "    model.train()\n",
    "    # model.training = True\n",
    "    total_loss=0\n",
    "    for index,(data,label) in enumerate(train_loader):\n",
    "        outputs=model(data.to(device))\n",
    "        label=label.to(device)\n",
    "        loss = loss_fn(outputs,label)\n",
    "        total_loss+=loss\n",
    "        optimizer.zero_grad()\n",
    "        loss.backward()\n",
    "        optimizer.step()\n",
    "    total_loss/=(index+1)\n",
    "    return total_loss    \n",
    "\n",
    "def Val_epoch(model=None,loss_fn=None,val_loader=None,device='cuda'):\n",
    "    device=torch.device(device if torch.cuda.is_available() else 'cpu')\n",
    "    model.eval()\n",
    "    model.to(device)\n",
    "    total_loss = 0\n",
    "    preds = []\n",
    "    labels = []\n",
    "    model.training = True\n",
    "    with torch.no_grad():\n",
    "        for index,(data,label) in enumerate(val_loader):\n",
    "            outputs = model(data.to(device))\n",
    "            label = label.to(device)\n",
    "            loss = loss_fn(outputs,label)\n",
    "            pred = torch.argmax(outputs,dim=1)\n",
    "            labels.append(label.item())\n",
    "            preds.append(pred.item())\n",
    "            total_loss+=loss\n",
    "    total_loss/=(index + 1)\n",
    "    #acc multi class CrossEntropy\n",
    "    acc = eval_acc(preds,labels)\n",
    "    return total_loss,acc\n",
    "\n",
    "def eval_acc(preds,labels):\n",
    "    n_total = len(preds)\n",
    "    n_correct = 0\n",
    "    for pred,label in zip(preds,labels):\n",
    "        if pred == label: n_correct+=1\n",
    "        else: continue\n",
    "    acc=n_correct/n_total\n",
    "    return acc\n",
    "        "
   ]
  },
  {
   "cell_type": "code",
   "execution_count": 8,
   "metadata": {},
   "outputs": [],
   "source": [
    "def Train_n_Eval(model=None,epochs=None,loss_fn=None,lr=1e-4,\n",
    "                 train_dataloader=None,eval_dataloader=None,lr_shedule=False,\n",
    "                 Step=10,miles=2,Gamma=0.1):\n",
    "    assert all(param is not None for param in [model,epochs,loss_fn,\n",
    "                                               train_dataloader,eval_dataloader]),\"All Param must be give in\"\n",
    "    optim = torch.optim.Adam(model.parameter(),lr)\n",
    "    loss_history = {\n",
    "        'train': [],\n",
    "        'val' : [],\n",
    "    }\n",
    "    if lr_shedule:\n",
    "        Multistep=[Step * i for i in range(1,miles+1)]\n",
    "        sheduler = torch.optim.lr_scheduler.MultiStepLR(optim,Multistep,Gamma)\n",
    "    for epoch in range(epochs):\n",
    "        train_loss = Train_epoch(model,loss_fn,train_dataloader,optim)\n",
    "        val_loss,acc = Val_epoch(model,loss_fn,eval_dataloader)\n",
    "        loss_history['train'].append(train_loss)\n",
    "        loss_history['val'].append(val_loss)\n",
    "        if lr_shedule:\n",
    "            sheduler.step()\n",
    "        print(f'Epoch: {epoch}:\\n \\tTrain Loss: {train_loss}\\n\\tVal Loss: {val_loss}, Accuracy: {acc}')\n",
    "    torch.save(model.state_dict(),'Checkpoint/model_final.pth')\n",
    "        "
   ]
  },
  {
   "cell_type": "code",
   "execution_count": 9,
   "metadata": {},
   "outputs": [],
   "source": [
    "model=ModelSTGCN(3,2)\n",
    "criterion=nn.CrossEntropyLoss()\n",
    "datalst1 = pds.read_pickle('Data/train.pkl')\n",
    "datalst2 = pds.read_pickle('Data/val.pkl')\n",
    "train_dataset = ActionDataset(ToTensor())\n",
    "val_dataset = ActionDataset(ToTensor())\n",
    "for data in datalst1:\n",
    "    train_dataset.append(data)\n",
    "for data in datalst2:\n",
    "    val_dataset.append(data)\n"
   ]
  },
  {
   "cell_type": "code",
   "execution_count": 10,
   "metadata": {},
   "outputs": [],
   "source": [
    "train_dataloader=DataLoader(dataset=train_dataset,shuffle=True)\n",
    "val_dataloader=DataLoader(dataset=val_dataset,shuffle=True)"
   ]
  },
  {
   "cell_type": "code",
   "execution_count": 11,
   "metadata": {},
   "outputs": [],
   "source": [
    "dataview=iter(train_dataloader)\n",
    "data = dataview.next()"
   ]
  },
  {
   "cell_type": "code",
   "execution_count": 14,
   "metadata": {},
   "outputs": [
    {
     "data": {
      "text/plain": [
       "torch.Size([1, 128, 17, 3])"
      ]
     },
     "execution_count": 14,
     "metadata": {},
     "output_type": "execute_result"
    }
   ],
   "source": [
    "data[0].size()"
   ]
  },
  {
   "cell_type": "code",
   "execution_count": null,
   "metadata": {},
   "outputs": [],
   "source": [
    "# def Train_val(model=None,dataloader=None,epochs=None,lr=1e-4,lr_schedule=None):\n",
    "#     assert all(param is not None for param in [model,dataloader,epochs]),\"All param must be give in: model,dataloader,epochs\"\n",
    "#     device=torch.device('cuda')\n",
    "#     model.to(device)\n",
    "#     optim=torch.optim.Adam(model.parameters(),lr)\n",
    "#     criteria=nn.CrossEntropyLoss()\n",
    "#     # criteria=nn.BCELoss()\n",
    "#     for epoch in range(epochs):\n",
    "#         for i,(data,label) in enumerate (dataloader):\n",
    "#             output=model(data.to(device))\n",
    "#             label=label.to(device)\n",
    "#             # _,predict=torch.max(output,dim=1)\n",
    "#             loss = criteria(output,label)\n",
    "#             optim.zero_grad()\n",
    "#             loss.backward()\n",
    "#             optim.step()\n",
    "#             print(f'Epoch: {epoch}, step: {i}/{len(dataloader)}, Loss: {loss:.5f}')\n",
    "    "
   ]
  },
  {
   "cell_type": "code",
   "execution_count": null,
   "metadata": {},
   "outputs": [],
   "source": [
    "# datalst1 = pds.read_pickle('Data/train.pkl')\n",
    "# datalst2 = pds.read_pickle('Data/val.pkl')\n",
    "# train_dataset = ActionDataset(ToTensor())\n",
    "# val_dataset = ActionDataset(ToTensor())\n",
    "# for data in datalst1:\n",
    "#     train_dataset.append(data)\n",
    "# for data in datalst2:\n",
    "#     val_dataset.append(data)\n"
   ]
  },
  {
   "cell_type": "code",
   "execution_count": null,
   "metadata": {},
   "outputs": [],
   "source": [
    "# # for epoch in range(2):\n",
    "# #     for i,data in enumerate (dataloader):\n",
    "# #         print(f'Epoch: {epoch}, Step: {i+1}/{len(dataloader)}, label: {data[1]}')\n",
    "# dataview=iter(dataloader)\n",
    "# data = dataview.next()"
   ]
  },
  {
   "cell_type": "code",
   "execution_count": null,
   "metadata": {},
   "outputs": [],
   "source": [
    "testfile=pds.read_pickle('test.pkl')"
   ]
  },
  {
   "cell_type": "code",
   "execution_count": null,
   "metadata": {},
   "outputs": [],
   "source": [
    "testact=ActionDataset(ToTensor())\n",
    "testact.append(testfile)"
   ]
  },
  {
   "cell_type": "code",
   "execution_count": null,
   "metadata": {},
   "outputs": [],
   "source": [
    "torch.expand_copy()"
   ]
  },
  {
   "cell_type": "code",
   "execution_count": null,
   "metadata": {},
   "outputs": [],
   "source": [
    "# batch_size=4\n",
    "# datalst=pds.read_pickle('train.pkl')\n",
    "# actDataset=ActionDataset(datalst[0])\n",
    "# dataloader=DataLoader(dataset=actDataset,batch_size=batch_size,shuffle=True)\n",
    "# n_sample=len(actDataset)\n",
    "# epochs=10\n",
    "# n_iter=round(n_sample/batch_size)\n",
    "# for epoch in range(epochs-8):\n",
    "#     for i,data in enumerate (dataloader):\n",
    "#         if (i+1)% (batch_size)==0:\n",
    "#             print(f'Epoch: {epoch}, Step: {i+1}/{n_iter}, Input shap: {data.shape}')"
   ]
  },
  {
   "cell_type": "code",
   "execution_count": null,
   "metadata": {},
   "outputs": [],
   "source": [
    "# import math\n",
    "# math.ceil(len(actDataset)/batch_size)"
   ]
  },
  {
   "cell_type": "code",
   "execution_count": null,
   "metadata": {},
   "outputs": [],
   "source": [
    "# batch_size=4\n",
    "# datalst=pds.read_pickle('train.pkl')\n",
    "# actDataset=ActionDataset(datalst[0])\n",
    "# dataloader=DataLoader(dataset=actDataset,batch_size=batch_size,shuffle=True)\n",
    "# n_sample=len(actDataset)\n",
    "# n_iter=round(n_sample/batch_size)\n",
    "# model = ModelSTGCN(3,5)\n",
    "# lr = 1e-3\n",
    "# optim = torch.optim.Adam(model.parameters(),lr)\n",
    "# lr_schedule = torch.optim.lr_scheduler.MultiStepLR(optim,[15,30],gamma=0.1)\n",
    "# epochs = 10\n",
    "# for epoch in range(epochs):\n",
    "#     for i,data in enumerate (dataloader):\n",
    "#         if (i+1)% (batch_size)==0:\n",
    "#             print(f'Epoch: {epoch}, Step: {i+1}/{n_iter}')"
   ]
  }
 ],
 "metadata": {
  "kernelspec": {
   "display_name": "pythonProject",
   "language": "python",
   "name": "python3"
  },
  "language_info": {
   "codemirror_mode": {
    "name": "ipython",
    "version": 3
   },
   "file_extension": ".py",
   "mimetype": "text/x-python",
   "name": "python",
   "nbconvert_exporter": "python",
   "pygments_lexer": "ipython3",
   "version": "3.10.9"
  },
  "orig_nbformat": 4
 },
 "nbformat": 4,
 "nbformat_minor": 2
}
