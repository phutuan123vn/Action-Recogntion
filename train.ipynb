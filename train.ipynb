{
 "cells": [
  {
   "cell_type": "code",
   "execution_count": 1,
   "metadata": {},
   "outputs": [
    {
     "name": "stderr",
     "output_type": "stream",
     "text": [
      "c:\\Users\\PhuTuan\\anaconda3\\envs\\pythonProject\\lib\\site-packages\\tqdm\\auto.py:22: TqdmWarning: IProgress not found. Please update jupyter and ipywidgets. See https://ipywidgets.readthedocs.io/en/stable/user_install.html\n",
      "  from .autonotebook import tqdm as notebook_tqdm\n"
     ]
    }
   ],
   "source": [
    "from Model.model import ModelSTGCN\n",
    "import torch\n",
    "from torch.utils.data import DataLoader,Dataset\n",
    "import pandas as pds\n",
    "import numpy as np\n",
    "import torch.nn as nn\n",
    "import copy"
   ]
  },
  {
   "attachments": {},
   "cell_type": "markdown",
   "metadata": {},
   "source": [
    "## **Action Dataset**"
   ]
  },
  {
   "cell_type": "code",
   "execution_count": 2,
   "metadata": {},
   "outputs": [],
   "source": [
    "class ActionDataset(Dataset):\n",
    "    def __init__(self,Transform=None):\n",
    "        # super().__init__()\n",
    "        # assert all(param is not None for param in [Data,label]),\"Data and label must be give in\"\n",
    "        # self.transform = Transform\n",
    "        self.feature=[]\n",
    "        self.label=[]\n",
    "        # self.append(Data,label)\n",
    "\n",
    "    def __getitem__(self, index):\n",
    "        sample = self.feature[index],self.label[index]\n",
    "        # if self.transform:\n",
    "            # sample=self.transform(sample)\n",
    "        return sample\n",
    "    \n",
    "    def __len__(self):\n",
    "        return self.leng\n",
    "    \n",
    "    def SetTrans(self,Transform):\n",
    "        self.transform=Transform\n",
    "    \n",
    "    def append(self,Data):\n",
    "        # super().__init__()\n",
    "        # assert all(param is not None for param in [Data,label]),\"Data and label must be give in\"\n",
    "        # assert label==None,\"Label must be give\"\n",
    "        # kpscore = np.expand_dims(Data['keypoint_score'][0],axis=2)\n",
    "        kp = Data['kp'][0]\n",
    "        h, w = Data['img_shape']\n",
    "        # shapeimg=Data['img_shape']\n",
    "        ## normalize pic\n",
    "        # kp[:,:,0] = kp[:,:,0]/w\n",
    "        # kp[:,:,1] = kp[:,:,1]/h\n",
    "        kp[:,:,0] = (kp[:,:,0]-w/2)/(w/2)\n",
    "        kp[:,:,1] = (kp[:,:,1]-h/2)/(h/2)\n",
    "        #############\n",
    "        # data = np.concatenate((kp,kpscore),axis=2)\n",
    "        # data = np.expand_dims(data,axis=0)\n",
    "        label = Data['label']\n",
    "        kp = torch.from_numpy(kp).float()\n",
    "        label = torch.tensor(label).long()\n",
    "        self.feature.append(kp)\n",
    "        self.label.append(label)\n",
    "        self.leng=len(self.feature)  \n",
    "\n",
    "class ToTensor():\n",
    "    def __call__(self,sample):\n",
    "        data,label=sample\n",
    "        return torch.from_numpy(data.astype(np.float32)),torch.tensor(label)"
   ]
  },
  {
   "attachments": {},
   "cell_type": "markdown",
   "metadata": {},
   "source": [
    "## **Train Eval in 1 Epoch**"
   ]
  },
  {
   "cell_type": "code",
   "execution_count": 3,
   "metadata": {},
   "outputs": [],
   "source": [
    "def Train_epoch(model=None,loss_fn=None,train_loader=None,optimizer=None,device='cuda'):\n",
    "    model.train()\n",
    "    # model.training = True\n",
    "    total_loss=0\n",
    "    for index,(data,label) in enumerate(train_loader):\n",
    "        data = data.to(device)\n",
    "        outputs = model(data)\n",
    "        label=label.to(device)\n",
    "        loss = loss_fn(outputs,label)\n",
    "        total_loss+=loss\n",
    "        optimizer.zero_grad()\n",
    "        loss.backward()\n",
    "        optimizer.step()\n",
    "    total_loss/=(index+1)\n",
    "    return total_loss    \n",
    "\n",
    "def Val_epoch(model=None,loss_fn=None,val_loader=None,device='cuda'):\n",
    "    device=torch.device(device if torch.cuda.is_available() else 'cpu')\n",
    "    model.eval()\n",
    "    model.to(device)\n",
    "    total_loss = 0\n",
    "    preds = []\n",
    "    labels = []\n",
    "    model.training = True\n",
    "    with torch.no_grad():\n",
    "        for index,(data,label) in enumerate(val_loader):\n",
    "            data = data.to(device)\n",
    "            outputs = model(data)\n",
    "            label = label.to(device)\n",
    "            loss = loss_fn(outputs,label)\n",
    "            pred = torch.argmax(outputs,dim=1)\n",
    "            labels.append(label.item())\n",
    "            preds.append(pred.item())\n",
    "            total_loss+=loss\n",
    "    total_loss/=(index + 1)\n",
    "    #acc multi class CrossEntropy\n",
    "    acc = eval_acc(preds,labels)\n",
    "    return total_loss,acc\n",
    "\n",
    "def eval_acc(preds,labels):\n",
    "    n_total = len(preds)\n",
    "    n_correct = 0\n",
    "    for pred,label in zip(preds,labels):\n",
    "        if pred == label: n_correct+=1\n",
    "        else: continue\n",
    "    acc=n_correct/n_total\n",
    "    return acc\n",
    "        "
   ]
  },
  {
   "attachments": {},
   "cell_type": "markdown",
   "metadata": {},
   "source": [
    "## **Train N Eval**"
   ]
  },
  {
   "cell_type": "code",
   "execution_count": 4,
   "metadata": {},
   "outputs": [],
   "source": [
    "def Train_n_Eval(model:nn.Module=None,epochs=None,loss_fn=None,lr=1e-4,optim:torch.optim.SGD=None,\n",
    "                 train_dataloader=None,eval_dataloader=None,lr_shedule=False,\n",
    "                 Step=10,miles=2,Gamma=0.1,device='cuda'):\n",
    "    assert all(param is not None for param in [model,epochs,loss_fn,optim,\n",
    "                                               train_dataloader,eval_dataloader]),\"All Param must be give in\"\n",
    "    device=torch.device(device if torch.cuda.is_available() else 'cpu')\n",
    "    model.to(device)\n",
    "    optim = optim(model.parameters(),lr,momentum=0.9,nesterov=True)\n",
    "    loss_history = {\n",
    "        'train': [],\n",
    "        'val' : [],\n",
    "    }\n",
    "    best_score=0\n",
    "    if lr_shedule:\n",
    "        Multistep=[Step * i for i in range(1,miles+1)]\n",
    "        scheduler = torch.optim.lr_scheduler.MultiStepLR(optim,Multistep,Gamma)\n",
    "    for epoch in range(1,epochs+1):\n",
    "        lr=optim.param_groups[-1]['lr']\n",
    "        train_loss = Train_epoch(model,loss_fn,train_dataloader,optim)\n",
    "        val_loss,acc = Val_epoch(model,loss_fn,eval_dataloader)\n",
    "        loss_history['train'].append(train_loss)\n",
    "        loss_history['val'].append(val_loss)\n",
    "        if acc > best_score:\n",
    "            best_score = acc\n",
    "            model_best_wts = copy.deepcopy(model.state_dict())\n",
    "            torch.save(model.state_dict(),'Model_best_wts.pt')\n",
    "            print(\"Copied best model weights!\")\n",
    "        if lr_shedule:\n",
    "            scheduler.step()\n",
    "        print(f'Epoch: {epoch}: Learning rate: {lr}\\n \\tTrain Loss: {train_loss}\\n\\tVal Loss: {val_loss}, Accuracy: {acc}')\n",
    "    model_final = copy.deepcopy(model.state_dict())\n",
    "    torch.save(model.state_dict(),'model_final.pth')\n",
    "    return model_best_wts,model_final\n",
    "        "
   ]
  },
  {
   "attachments": {},
   "cell_type": "markdown",
   "metadata": {},
   "source": [
    "## **Read File and Train**"
   ]
  },
  {
   "cell_type": "code",
   "execution_count": 16,
   "metadata": {},
   "outputs": [],
   "source": [
    "model=ModelSTGCN(3,2)\n",
    "criterion=nn.CrossEntropyLoss()\n",
    "optim=torch.optim.SGD\n",
    "datalst1 = pds.read_pickle('Data/train1.pkl')\n",
    "datalst2 = pds.read_pickle('Data/Valid1.pkl')\n",
    "train_dataset = ActionDataset()\n",
    "val_dataset = ActionDataset()\n",
    "for data in datalst1:\n",
    "    train_dataset.append(data)\n",
    "for data in datalst2:\n",
    "    val_dataset.append(data)\n",
    "train_dataloader=DataLoader(dataset=train_dataset,shuffle=True)\n",
    "val_dataloader=DataLoader(dataset=val_dataset,shuffle=True)\n",
    "model_best,model_final = Train_n_Eval(model=model,epochs=10,loss_fn=criterion,optim=optim,\n",
    "                                      train_dataloader=train_dataloader,eval_dataloader=val_dataloader,\n",
    "                                      lr=1e-3,lr_shedule=False,Step=3)"
   ]
  },
  {
   "attachments": {},
   "cell_type": "markdown",
   "metadata": {},
   "source": [
    "## **Keep Training**"
   ]
  },
  {
   "cell_type": "code",
   "execution_count": 17,
   "metadata": {},
   "outputs": [
    {
     "name": "stdout",
     "output_type": "stream",
     "text": [
      "Copied best model weights!\n",
      "Epoch: 1: Learning rate: 0.001\n",
      " \tTrain Loss: 0.6876081228256226\n",
      "\tVal Loss: 0.7766261696815491, Accuracy: 0.74\n",
      "Copied best model weights!\n",
      "Epoch: 2: Learning rate: 0.001\n",
      " \tTrain Loss: 0.5403805375099182\n",
      "\tVal Loss: 0.6301281452178955, Accuracy: 0.78\n",
      "Epoch: 3: Learning rate: 0.001\n",
      " \tTrain Loss: 0.4270092248916626\n",
      "\tVal Loss: 0.5757364630699158, Accuracy: 0.74\n",
      "Epoch: 4: Learning rate: 0.001\n",
      " \tTrain Loss: 0.33834853768348694\n",
      "\tVal Loss: 0.7794975638389587, Accuracy: 0.7\n",
      "Epoch: 5: Learning rate: 0.001\n",
      " \tTrain Loss: 0.2636999189853668\n",
      "\tVal Loss: 1.060133934020996, Accuracy: 0.76\n",
      "Copied best model weights!\n",
      "Epoch: 6: Learning rate: 0.001\n",
      " \tTrain Loss: 0.2717994451522827\n",
      "\tVal Loss: 0.5641483068466187, Accuracy: 0.84\n",
      "Epoch: 7: Learning rate: 0.001\n",
      " \tTrain Loss: 0.24628731608390808\n",
      "\tVal Loss: 0.9382379651069641, Accuracy: 0.7\n",
      "Epoch: 8: Learning rate: 0.001\n",
      " \tTrain Loss: 0.13602645695209503\n",
      "\tVal Loss: 0.6062461733818054, Accuracy: 0.76\n",
      "Epoch: 9: Learning rate: 0.001\n",
      " \tTrain Loss: 0.12965823709964752\n",
      "\tVal Loss: 1.1108635663986206, Accuracy: 0.66\n",
      "Epoch: 10: Learning rate: 0.001\n",
      " \tTrain Loss: 0.15597262978553772\n",
      "\tVal Loss: 0.7555561661720276, Accuracy: 0.76\n"
     ]
    }
   ],
   "source": [
    "model_best,model_final = Train_n_Eval(model=model,epochs=10,loss_fn=criterion,optim=optim,\n",
    "                                      train_dataloader=train_dataloader,eval_dataloader=val_dataloader,\n",
    "                                      lr=1e-3,lr_shedule=False,Step=3)"
   ]
  },
  {
   "attachments": {},
   "cell_type": "markdown",
   "metadata": {},
   "source": [
    "## **Eval Model**"
   ]
  },
  {
   "cell_type": "code",
   "execution_count": 11,
   "metadata": {},
   "outputs": [
    {
     "name": "stdout",
     "output_type": "stream",
     "text": [
      "label: tensor([0], device='cuda:0') pred: tensor([1], device='cuda:0') Index:1\n",
      "label: tensor([0], device='cuda:0') pred: tensor([0], device='cuda:0') Index:2\n",
      "label: tensor([0], device='cuda:0') pred: tensor([0], device='cuda:0') Index:3\n",
      "label: tensor([0], device='cuda:0') pred: tensor([0], device='cuda:0') Index:4\n",
      "label: tensor([0], device='cuda:0') pred: tensor([0], device='cuda:0') Index:5\n",
      "label: tensor([0], device='cuda:0') pred: tensor([0], device='cuda:0') Index:6\n",
      "label: tensor([0], device='cuda:0') pred: tensor([0], device='cuda:0') Index:7\n",
      "label: tensor([0], device='cuda:0') pred: tensor([1], device='cuda:0') Index:8\n",
      "label: tensor([0], device='cuda:0') pred: tensor([0], device='cuda:0') Index:9\n",
      "label: tensor([0], device='cuda:0') pred: tensor([1], device='cuda:0') Index:10\n",
      "label: tensor([0], device='cuda:0') pred: tensor([1], device='cuda:0') Index:11\n",
      "label: tensor([0], device='cuda:0') pred: tensor([1], device='cuda:0') Index:12\n",
      "label: tensor([0], device='cuda:0') pred: tensor([0], device='cuda:0') Index:13\n",
      "label: tensor([0], device='cuda:0') pred: tensor([0], device='cuda:0') Index:14\n",
      "label: tensor([0], device='cuda:0') pred: tensor([1], device='cuda:0') Index:15\n",
      "label: tensor([0], device='cuda:0') pred: tensor([0], device='cuda:0') Index:16\n",
      "label: tensor([0], device='cuda:0') pred: tensor([0], device='cuda:0') Index:17\n",
      "label: tensor([0], device='cuda:0') pred: tensor([0], device='cuda:0') Index:18\n",
      "label: tensor([0], device='cuda:0') pred: tensor([0], device='cuda:0') Index:19\n",
      "label: tensor([0], device='cuda:0') pred: tensor([0], device='cuda:0') Index:20\n",
      "label: tensor([0], device='cuda:0') pred: tensor([0], device='cuda:0') Index:21\n",
      "label: tensor([0], device='cuda:0') pred: tensor([0], device='cuda:0') Index:22\n",
      "label: tensor([0], device='cuda:0') pred: tensor([0], device='cuda:0') Index:23\n",
      "label: tensor([0], device='cuda:0') pred: tensor([0], device='cuda:0') Index:24\n",
      "label: tensor([0], device='cuda:0') pred: tensor([0], device='cuda:0') Index:25\n",
      "label: tensor([1], device='cuda:0') pred: tensor([1], device='cuda:0') Index:26\n",
      "label: tensor([1], device='cuda:0') pred: tensor([1], device='cuda:0') Index:27\n",
      "label: tensor([1], device='cuda:0') pred: tensor([1], device='cuda:0') Index:28\n",
      "label: tensor([1], device='cuda:0') pred: tensor([1], device='cuda:0') Index:29\n",
      "label: tensor([1], device='cuda:0') pred: tensor([1], device='cuda:0') Index:30\n",
      "label: tensor([1], device='cuda:0') pred: tensor([1], device='cuda:0') Index:31\n",
      "label: tensor([1], device='cuda:0') pred: tensor([1], device='cuda:0') Index:32\n",
      "label: tensor([1], device='cuda:0') pred: tensor([1], device='cuda:0') Index:33\n",
      "label: tensor([1], device='cuda:0') pred: tensor([1], device='cuda:0') Index:34\n",
      "label: tensor([1], device='cuda:0') pred: tensor([1], device='cuda:0') Index:35\n",
      "label: tensor([1], device='cuda:0') pred: tensor([1], device='cuda:0') Index:36\n",
      "label: tensor([1], device='cuda:0') pred: tensor([1], device='cuda:0') Index:37\n",
      "label: tensor([1], device='cuda:0') pred: tensor([1], device='cuda:0') Index:38\n",
      "label: tensor([1], device='cuda:0') pred: tensor([1], device='cuda:0') Index:39\n",
      "label: tensor([1], device='cuda:0') pred: tensor([1], device='cuda:0') Index:40\n",
      "label: tensor([1], device='cuda:0') pred: tensor([1], device='cuda:0') Index:41\n",
      "label: tensor([1], device='cuda:0') pred: tensor([1], device='cuda:0') Index:42\n",
      "label: tensor([1], device='cuda:0') pred: tensor([1], device='cuda:0') Index:43\n",
      "label: tensor([1], device='cuda:0') pred: tensor([1], device='cuda:0') Index:44\n",
      "label: tensor([1], device='cuda:0') pred: tensor([1], device='cuda:0') Index:45\n",
      "label: tensor([1], device='cuda:0') pred: tensor([0], device='cuda:0') Index:46\n",
      "label: tensor([1], device='cuda:0') pred: tensor([1], device='cuda:0') Index:47\n",
      "label: tensor([1], device='cuda:0') pred: tensor([0], device='cuda:0') Index:48\n",
      "label: tensor([1], device='cuda:0') pred: tensor([1], device='cuda:0') Index:49\n",
      "label: tensor([1], device='cuda:0') pred: tensor([1], device='cuda:0') Index:50\n",
      "Accuracy: 0.84 \n"
     ]
    }
   ],
   "source": [
    "model=ModelSTGCN(3,2)\n",
    "criterion=nn.CrossEntropyLoss()\n",
    "model.load_state_dict(torch.load('model_best.pth'))\n",
    "model.cuda()\n",
    "# model.load_state_dict(model_best)\n",
    "# model.load_state_dict(model_final)\n",
    "model.eval()\n",
    "filetest=pds.read_pickle('Data/Test1.pkl')\n",
    "testdata=ActionDataset()\n",
    "for data in filetest:\n",
    "    testdata.append(data)\n",
    "test_loader=DataLoader(testdata,shuffle=False)\n",
    "total_loss = 0\n",
    "preds = []\n",
    "labels = []\n",
    "with torch.no_grad():\n",
    "    for index,(data,label) in enumerate(test_loader):\n",
    "        outputs = model(data.to('cuda'))\n",
    "        label = label.to('cuda')\n",
    "        loss = criterion(outputs,label)\n",
    "        pred = torch.argmax(outputs,dim=1)\n",
    "        labels.append(label.item())\n",
    "        preds.append(pred.item())\n",
    "        total_loss+=loss\n",
    "        print(f'label: {label} pred: {pred} Index:{index+1}')\n",
    "total_loss/=(index + 1)\n",
    "#acc multi class CrossEntropy\n",
    "acc = eval_acc(preds,labels)\n",
    "print(f'Accuracy: {acc} ')"
   ]
  },
  {
   "cell_type": "code",
   "execution_count": 10,
   "metadata": {},
   "outputs": [
    {
     "data": {
      "text/plain": [
       "tensor(0.5664, device='cuda:0')"
      ]
     },
     "execution_count": 10,
     "metadata": {},
     "output_type": "execute_result"
    }
   ],
   "source": []
  },
  {
   "cell_type": "code",
   "execution_count": null,
   "metadata": {},
   "outputs": [],
   "source": [
    "torch.cuda.empty_cache()"
   ]
  },
  {
   "cell_type": "code",
   "execution_count": null,
   "metadata": {},
   "outputs": [],
   "source": [
    "acc"
   ]
  },
  {
   "cell_type": "code",
   "execution_count": null,
   "metadata": {},
   "outputs": [],
   "source": [
    "torch.save(model.state_dict(),'Model.pth')"
   ]
  },
  {
   "cell_type": "code",
   "execution_count": null,
   "metadata": {},
   "outputs": [],
   "source": [
    "# a=datalst1[0]['keypoint'][0]\n",
    "# shapeimg=datalst1[0]['img_shape']\n",
    "# datalst1[0]['keypoint'][0]\n"
   ]
  },
  {
   "cell_type": "code",
   "execution_count": null,
   "metadata": {},
   "outputs": [],
   "source": [
    "# a[...,0]=a[...,0]/shapeimg[1]\n",
    "# a[...,1]=a[...,1]/shapeimg[0]\n",
    "# a"
   ]
  },
  {
   "cell_type": "code",
   "execution_count": null,
   "metadata": {},
   "outputs": [],
   "source": [
    "# def Train_val(model=None,dataloader=None,epochs=None,lr=1e-4,lr_schedule=None):\n",
    "#     assert all(param is not None for param in [model,dataloader,epochs]),\"All param must be give in: model,dataloader,epochs\"\n",
    "#     device=torch.device('cuda')\n",
    "#     model.to(device)\n",
    "#     optim=torch.optim.Adam(model.parameters(),lr)\n",
    "#     criteria=nn.CrossEntropyLoss()\n",
    "#     # criteria=nn.BCELoss()\n",
    "#     for epoch in range(epochs):\n",
    "#         for i,(data,label) in enumerate (dataloader):\n",
    "#             output=model(data.to(device))\n",
    "#             label=label.to(device)\n",
    "#             # _,predict=torch.max(output,dim=1)\n",
    "#             loss = criteria(output,label)\n",
    "#             optim.zero_grad()\n",
    "#             loss.backward()\n",
    "#             optim.step()\n",
    "#             print(f'Epoch: {epoch}, step: {i}/{len(dataloader)}, Loss: {loss:.5f}')\n",
    "    "
   ]
  },
  {
   "cell_type": "code",
   "execution_count": null,
   "metadata": {},
   "outputs": [],
   "source": [
    "# datalst1 = pds.read_pickle('Data/train.pkl')\n",
    "# datalst2 = pds.read_pickle('Data/val.pkl')\n",
    "# train_dataset = ActionDataset(ToTensor())\n",
    "# val_dataset = ActionDataset(ToTensor())\n",
    "# for data in datalst1:\n",
    "#     train_dataset.append(data)\n",
    "# for data in datalst2:\n",
    "#     val_dataset.append(data)\n"
   ]
  },
  {
   "cell_type": "code",
   "execution_count": null,
   "metadata": {},
   "outputs": [],
   "source": [
    "# # for epoch in range(2):\n",
    "# #     for i,data in enumerate (dataloader):\n",
    "# #         print(f'Epoch: {epoch}, Step: {i+1}/{len(dataloader)}, label: {data[1]}')\n",
    "# dataview=iter(dataloader)\n",
    "# data = dataview.next()"
   ]
  },
  {
   "cell_type": "code",
   "execution_count": null,
   "metadata": {},
   "outputs": [],
   "source": [
    "# testfile=pds.read_pickle('test.pkl')"
   ]
  },
  {
   "cell_type": "code",
   "execution_count": null,
   "metadata": {},
   "outputs": [],
   "source": [
    "# testact=ActionDataset(ToTensor())\n",
    "# testact.append(testfile)"
   ]
  },
  {
   "cell_type": "code",
   "execution_count": null,
   "metadata": {},
   "outputs": [],
   "source": [
    "# torch.expand_copy()"
   ]
  },
  {
   "cell_type": "code",
   "execution_count": null,
   "metadata": {},
   "outputs": [],
   "source": [
    "# batch_size=4\n",
    "# datalst=pds.read_pickle('train.pkl')\n",
    "# actDataset=ActionDataset(datalst[0])\n",
    "# dataloader=DataLoader(dataset=actDataset,batch_size=batch_size,shuffle=True)\n",
    "# n_sample=len(actDataset)\n",
    "# epochs=10\n",
    "# n_iter=round(n_sample/batch_size)\n",
    "# for epoch in range(epochs-8):\n",
    "#     for i,data in enumerate (dataloader):\n",
    "#         if (i+1)% (batch_size)==0:\n",
    "#             print(f'Epoch: {epoch}, Step: {i+1}/{n_iter}, Input shap: {data.shape}')"
   ]
  },
  {
   "cell_type": "code",
   "execution_count": null,
   "metadata": {},
   "outputs": [],
   "source": [
    "# import math\n",
    "# math.ceil(len(actDataset)/batch_size)"
   ]
  },
  {
   "cell_type": "code",
   "execution_count": null,
   "metadata": {},
   "outputs": [],
   "source": [
    "# batch_size=4\n",
    "# datalst=pds.read_pickle('train.pkl')\n",
    "# actDataset=ActionDataset(datalst[0])\n",
    "# dataloader=DataLoader(dataset=actDataset,batch_size=batch_size,shuffle=True)\n",
    "# n_sample=len(actDataset)\n",
    "# n_iter=round(n_sample/batch_size)\n",
    "# model = ModelSTGCN(3,5)\n",
    "# lr = 1e-3\n",
    "# optim = torch.optim.Adam(model.parameters(),lr)\n",
    "# lr_schedule = torch.optim.lr_scheduler.MultiStepLR(optim,[15,30],gamma=0.1)\n",
    "# epochs = 10\n",
    "# for epoch in range(epochs):\n",
    "#     for i,data in enumerate (dataloader):\n",
    "#         if (i+1)% (batch_size)==0:\n",
    "#             print(f'Epoch: {epoch}, Step: {i+1}/{n_iter}')"
   ]
  }
 ],
 "metadata": {
  "kernelspec": {
   "display_name": "pythonProject",
   "language": "python",
   "name": "python3"
  },
  "language_info": {
   "codemirror_mode": {
    "name": "ipython",
    "version": 3
   },
   "file_extension": ".py",
   "mimetype": "text/x-python",
   "name": "python",
   "nbconvert_exporter": "python",
   "pygments_lexer": "ipython3",
   "version": "3.10.9"
  },
  "orig_nbformat": 4
 },
 "nbformat": 4,
 "nbformat_minor": 2
}
