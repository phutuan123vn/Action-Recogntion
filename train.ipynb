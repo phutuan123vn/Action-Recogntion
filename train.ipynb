{
 "cells": [
  {
   "cell_type": "code",
   "execution_count": 2,
   "metadata": {},
   "outputs": [],
   "source": [
    "from Model.model import ModelSTGCN\n",
    "import torch\n",
    "from torch.utils.data import DataLoader,Dataset\n",
    "import pandas as pds"
   ]
  },
  {
   "cell_type": "code",
   "execution_count": null,
   "metadata": {},
   "outputs": [],
   "source": [
    "class ActionDataset(Dataset):\n",
    "    def __init__(self,Data):\n",
    "        super().__init__()\n",
    "        self.N_frame=Data['total_frame']\n",
    "        image_shape=Data[]\n",
    "        self.kp=Data['kp'][0]/\n",
    "\n",
    "    def __getitem__(self, index):\n",
    "        return super().__getitem__(index)\n",
    "\n",
    "    def __len__(self):\n",
    "        return     "
   ]
  },
  {
   "cell_type": "code",
   "execution_count": null,
   "metadata": {},
   "outputs": [],
   "source": [
    "datalst=pds.read_pickle('train.pkl')\n",
    "actDataset=ActionDataset(datalst[0])"
   ]
  }
 ],
 "metadata": {
  "kernelspec": {
   "display_name": "pythonProject",
   "language": "python",
   "name": "python3"
  },
  "language_info": {
   "codemirror_mode": {
    "name": "ipython",
    "version": 3
   },
   "file_extension": ".py",
   "mimetype": "text/x-python",
   "name": "python",
   "nbconvert_exporter": "python",
   "pygments_lexer": "ipython3",
   "version": "3.10.9"
  },
  "orig_nbformat": 4
 },
 "nbformat": 4,
 "nbformat_minor": 2
}
