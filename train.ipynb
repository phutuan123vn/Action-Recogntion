{
 "cells": [
  {
   "cell_type": "code",
   "execution_count": 1,
   "metadata": {},
   "outputs": [
    {
     "name": "stderr",
     "output_type": "stream",
     "text": [
      "c:\\Users\\ADMIN\\anaconda3\\envs\\pythonProject\\lib\\site-packages\\tqdm\\auto.py:22: TqdmWarning: IProgress not found. Please update jupyter and ipywidgets. See https://ipywidgets.readthedocs.io/en/stable/user_install.html\n",
      "  from .autonotebook import tqdm as notebook_tqdm\n"
     ]
    }
   ],
   "source": [
    "from Model.model import ModelSTGCN\n",
    "import torch\n",
    "from torch.utils.data import DataLoader,Dataset\n",
    "import pandas as pds\n",
    "import numpy as np"
   ]
  },
  {
   "cell_type": "code",
   "execution_count": 2,
   "metadata": {},
   "outputs": [],
   "source": [
    "class ActionDataset(Dataset):\n",
    "    def __init__(self,Data):\n",
    "        super().__init__()\n",
    "        self.N_frame=Data['total_frames']\n",
    "        kpscore=np.expand_dims(Data['kp_score'][0],axis=2)\n",
    "        kp=Data['kp'][0]\n",
    "        self.data=np.concatenate((kp,kpscore),axis=2)\n",
    "\n",
    "    def __getitem__(self, index):\n",
    "        return self.data[index]\n",
    "\n",
    "    def __len__(self):\n",
    "        return self.N_frame   "
   ]
  },
  {
   "cell_type": "code",
   "execution_count": 12,
   "metadata": {},
   "outputs": [],
   "source": [
    "# kp=datalst[0]['kp'][0]\n",
    "# kp_score=datalst[0]['kp_score'][0]\n",
    "# kp_score=np.expand_dims(kp_score,axis=2)\n",
    "# a=np.concatenate((kp,kp_score),axis=2)\n",
    "# a\n"
   ]
  },
  {
   "cell_type": "code",
   "execution_count": 24,
   "metadata": {},
   "outputs": [
    {
     "name": "stdout",
     "output_type": "stream",
     "text": [
      "step: 4/179 input shape: torch.Size([4, 17, 3])\n",
      "step: 8/179 input shape: torch.Size([4, 17, 3])\n",
      "step: 12/179 input shape: torch.Size([4, 17, 3])\n",
      "step: 16/179 input shape: torch.Size([4, 17, 3])\n",
      "step: 20/179 input shape: torch.Size([4, 17, 3])\n",
      "step: 24/179 input shape: torch.Size([4, 17, 3])\n",
      "step: 28/179 input shape: torch.Size([4, 17, 3])\n",
      "step: 32/179 input shape: torch.Size([4, 17, 3])\n",
      "step: 36/179 input shape: torch.Size([4, 17, 3])\n",
      "step: 40/179 input shape: torch.Size([4, 17, 3])\n",
      "step: 44/179 input shape: torch.Size([4, 17, 3])\n",
      "step: 48/179 input shape: torch.Size([4, 17, 3])\n",
      "step: 52/179 input shape: torch.Size([4, 17, 3])\n",
      "step: 56/179 input shape: torch.Size([4, 17, 3])\n",
      "step: 60/179 input shape: torch.Size([4, 17, 3])\n",
      "step: 64/179 input shape: torch.Size([4, 17, 3])\n",
      "step: 68/179 input shape: torch.Size([4, 17, 3])\n",
      "step: 72/179 input shape: torch.Size([4, 17, 3])\n",
      "step: 76/179 input shape: torch.Size([4, 17, 3])\n",
      "step: 80/179 input shape: torch.Size([4, 17, 3])\n",
      "step: 84/179 input shape: torch.Size([4, 17, 3])\n",
      "step: 88/179 input shape: torch.Size([4, 17, 3])\n",
      "step: 92/179 input shape: torch.Size([4, 17, 3])\n",
      "step: 96/179 input shape: torch.Size([4, 17, 3])\n",
      "step: 100/179 input shape: torch.Size([4, 17, 3])\n",
      "step: 104/179 input shape: torch.Size([4, 17, 3])\n",
      "step: 108/179 input shape: torch.Size([4, 17, 3])\n",
      "step: 112/179 input shape: torch.Size([4, 17, 3])\n",
      "step: 116/179 input shape: torch.Size([4, 17, 3])\n",
      "step: 120/179 input shape: torch.Size([4, 17, 3])\n",
      "step: 124/179 input shape: torch.Size([4, 17, 3])\n",
      "step: 128/179 input shape: torch.Size([4, 17, 3])\n",
      "step: 132/179 input shape: torch.Size([4, 17, 3])\n",
      "step: 136/179 input shape: torch.Size([4, 17, 3])\n",
      "step: 140/179 input shape: torch.Size([4, 17, 3])\n",
      "step: 144/179 input shape: torch.Size([4, 17, 3])\n",
      "step: 148/179 input shape: torch.Size([4, 17, 3])\n",
      "step: 152/179 input shape: torch.Size([4, 17, 3])\n",
      "step: 156/179 input shape: torch.Size([4, 17, 3])\n",
      "step: 160/179 input shape: torch.Size([4, 17, 3])\n",
      "step: 164/179 input shape: torch.Size([4, 17, 3])\n",
      "step: 168/179 input shape: torch.Size([4, 17, 3])\n",
      "step: 172/179 input shape: torch.Size([4, 17, 3])\n",
      "step: 176/179 input shape: torch.Size([4, 17, 3])\n"
     ]
    }
   ],
   "source": [
    "batch_size=4\n",
    "datalst=pds.read_pickle('train.pkl')\n",
    "actDataset=ActionDataset(datalst[0])\n",
    "dataloader=DataLoader(dataset=actDataset,batch_size=batch_size,shuffle=True)\n",
    "n_sample=len(actDataset)\n",
    "n_iter=round(n_sample/batch_size)\n",
    "for i,data in enumerate(dataloader):\n",
    "    if ((i+1) % batch_size) == 0:\n",
    "        print(f'step: {i+1}/{n_iter} input shape: {data.shape}')"
   ]
  }
 ],
 "metadata": {
  "kernelspec": {
   "display_name": "pythonProject",
   "language": "python",
   "name": "python3"
  },
  "language_info": {
   "codemirror_mode": {
    "name": "ipython",
    "version": 3
   },
   "file_extension": ".py",
   "mimetype": "text/x-python",
   "name": "python",
   "nbconvert_exporter": "python",
   "pygments_lexer": "ipython3",
   "version": "3.10.9"
  },
  "orig_nbformat": 4
 },
 "nbformat": 4,
 "nbformat_minor": 2
}
