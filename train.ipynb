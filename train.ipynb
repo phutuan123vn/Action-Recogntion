{
 "cells": [
  {
   "cell_type": "code",
   "execution_count": 3,
   "metadata": {},
   "outputs": [],
   "source": [
    "from Model.model import ModelSTGCN\n",
    "import torch\n",
    "from torch.utils.data import DataLoader,Dataset\n",
    "import pandas as pds\n",
    "import numpy as np"
   ]
  },
  {
   "cell_type": "code",
   "execution_count": 20,
   "metadata": {},
   "outputs": [],
   "source": [
    "class ActionDataset(Dataset):\n",
    "    def __init__(self,Data):\n",
    "        super().__init__()\n",
    "        self.N_frame=Data['total_frames']\n",
    "        kpscore=np.expand_dims(Data['kp_score'][0],axis=2)\n",
    "        kp=Data['kp'][0]\n",
    "        self.data=np.concatenate((kp,kpscore),axis=2)\n",
    "\n",
    "    def __getitem__(self, index):\n",
    "        return self.data[index]\n",
    "\n",
    "    def __len__(self):\n",
    "        return self.N_frame   "
   ]
  },
  {
   "cell_type": "code",
   "execution_count": 12,
   "metadata": {},
   "outputs": [],
   "source": [
    "kp=datalst[0]['kp'][0]\n",
    "kp_score=datalst[0]['kp_score'][0]\n",
    "kp_score=np.expand_dims(kp_score,axis=2)\n",
    "a=np.concatenate((kp,kp_score),axis=2)\n",
    "a[5]\n"
   ]
  },
  {
   "cell_type": "code",
   "execution_count": 26,
   "metadata": {},
   "outputs": [
    {
     "data": {
      "text/plain": [
       "torch.Size([4, 17, 3])"
      ]
     },
     "execution_count": 26,
     "metadata": {},
     "output_type": "execute_result"
    }
   ],
   "source": [
    "datalst=pds.read_pickle('train.pkl')\n",
    "actDataset=ActionDataset(datalst[0])\n",
    "dataloader=DataLoader(dataset=actDataset,batch_size=4,shuffle=True)\n",
    "dataiter=iter(dataloader)\n",
    "data=dataiter.next()\n",
    "data.shape"
   ]
  },
  {
   "cell_type": "code",
   "execution_count": 24,
   "metadata": {},
   "outputs": [
    {
     "data": {
      "text/plain": [
       "array([[0.70539933, 0.29457283, 0.8300471 ],\n",
       "       [0.70950854, 0.287279  , 0.8444217 ],\n",
       "       [0.70539933, 0.283632  , 0.8189148 ],\n",
       "       [0.70950854, 0.287279  , 0.72429085],\n",
       "       [0.69307166, 0.27269128, 0.8215558 ],\n",
       "       [0.6992355 , 0.31280747, 0.7642889 ],\n",
       "       [0.66636175, 0.29821974, 0.8369639 ],\n",
       "       [0.71156317, 0.36751142, 0.7903819 ],\n",
       "       [0.6622526 , 0.38209915, 0.73215187],\n",
       "       [0.7300547 , 0.41492158, 0.58510613],\n",
       "       [0.69307166, 0.34198296, 0.80920196],\n",
       "       [0.67047095, 0.41492158, 0.70603204],\n",
       "       [0.64992493, 0.40033385, 0.7552263 ],\n",
       "       [0.66636175, 0.4842132 , 0.80608684],\n",
       "       [0.63554263, 0.47691935, 0.72092974],\n",
       "       [0.6396519 , 0.56079876, 0.8324282 ],\n",
       "       [0.6129419 , 0.5535049 , 0.74012715]], dtype=float32)"
      ]
     },
     "execution_count": 24,
     "metadata": {},
     "output_type": "execute_result"
    }
   ],
   "source": [
    "data"
   ]
  }
 ],
 "metadata": {
  "kernelspec": {
   "display_name": "pythonProject",
   "language": "python",
   "name": "python3"
  },
  "language_info": {
   "codemirror_mode": {
    "name": "ipython",
    "version": 3
   },
   "file_extension": ".py",
   "mimetype": "text/x-python",
   "name": "python",
   "nbconvert_exporter": "python",
   "pygments_lexer": "ipython3",
   "version": "3.10.9"
  },
  "orig_nbformat": 4
 },
 "nbformat": 4,
 "nbformat_minor": 2
}
