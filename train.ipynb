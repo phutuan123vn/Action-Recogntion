{
 "cells": [
  {
   "cell_type": "code",
   "execution_count": 1,
   "metadata": {},
   "outputs": [
    {
     "name": "stderr",
     "output_type": "stream",
     "text": [
      "c:\\Users\\ADMIN\\anaconda3\\envs\\pythonProject\\lib\\site-packages\\tqdm\\auto.py:22: TqdmWarning: IProgress not found. Please update jupyter and ipywidgets. See https://ipywidgets.readthedocs.io/en/stable/user_install.html\n",
      "  from .autonotebook import tqdm as notebook_tqdm\n"
     ]
    }
   ],
   "source": [
    "from Model.model import ModelSTGCN\n",
    "import torch\n",
    "from torch.utils.data import DataLoader,Dataset\n",
    "import pandas as pds\n",
    "import numpy as np\n",
    "import torch.nn as nn"
   ]
  },
  {
   "cell_type": "code",
   "execution_count": 19,
   "metadata": {},
   "outputs": [],
   "source": [
    "class ActionDataset(Dataset):\n",
    "    def __init__(self,Transform=None):\n",
    "        super().__init__()\n",
    "        # assert all(param is not None for param in [Data,label]),\"Data and label must be give in\"\n",
    "        self.transform = Transform\n",
    "        self.lst=[]\n",
    "        self.label=[]\n",
    "        # self.append(Data,label)\n",
    "\n",
    "    def __getitem__(self, index):\n",
    "        sample = self.lst[index],self.label[index]\n",
    "        if self.transform:\n",
    "            sample=self.transform(sample)\n",
    "        return sample\n",
    "    \n",
    "    def __len__(self):\n",
    "        return self.leng\n",
    "    \n",
    "    def SetTrans(self,Transform):\n",
    "        self.transform=Transform\n",
    "    \n",
    "    def append(self,Data):\n",
    "        # super().__init__()\n",
    "        # assert all(param is not None for param in [Data,label]),\"Data and label must be give in\"\n",
    "        # assert label==None,\"Label must be give\"\n",
    "        kpscore = np.expand_dims(Data['kp_score'][0],axis=2)\n",
    "        kp = Data['kp'][0]\n",
    "        data = np.concatenate((kp,kpscore),axis=2)\n",
    "        data = np.expand_dims(data,axis=0)\n",
    "        label = Data['label']\n",
    "        self.lst.append(data)\n",
    "        self.label.append(label)\n",
    "        self.leng=len(self.lst)  "
   ]
  },
  {
   "cell_type": "code",
   "execution_count": null,
   "metadata": {},
   "outputs": [],
   "source": [
    "# x = \"hello\"\n",
    "\n",
    "# #if condition returns True, then nothing happens:\n",
    "# assert x == \"hello\"\n",
    "\n",
    "# #if condition returns False, AssertionError is raised:\n",
    "# assert x== \"goodbye\", \"x should be 'hello'\"\n"
   ]
  },
  {
   "cell_type": "code",
   "execution_count": 21,
   "metadata": {},
   "outputs": [],
   "source": [
    "class ToTensor():\n",
    "    def __call__(self,sample):\n",
    "        data,label=sample\n",
    "        return torch.from_numpy(data),torch.tensor(label)"
   ]
  },
  {
   "cell_type": "code",
   "execution_count": null,
   "metadata": {},
   "outputs": [],
   "source": [
    "kp=datalst[0]['kp'][0]\n",
    "kp_score=datalst[0]['kp_score'][0]\n",
    "kp_score=np.expand_dims(kp_score,axis=2)\n",
    "a=np.concatenate((kp,kp_score),axis=2)\n",
    "a.shape\n"
   ]
  },
  {
   "cell_type": "code",
   "execution_count": 22,
   "metadata": {},
   "outputs": [],
   "source": [
    "batch_size=4\n",
    "datalst=pds.read_pickle('train.pkl')\n",
    "actDataset=ActionDataset()\n",
    "actDataset.append(datalst[0])\n",
    "actDataset.SetTrans(ToTensor())\n",
    "data=actDataset[0]"
   ]
  },
  {
   "cell_type": "code",
   "execution_count": 23,
   "metadata": {},
   "outputs": [
    {
     "data": {
      "text/plain": [
       "(tensor([[[[0., 0., 0.],\n",
       "           [0., 0., 0.],\n",
       "           [0., 0., 0.],\n",
       "           ...,\n",
       "           [0., 0., 0.],\n",
       "           [0., 0., 0.],\n",
       "           [0., 0., 0.]],\n",
       " \n",
       "          [[0., 0., 0.],\n",
       "           [0., 0., 0.],\n",
       "           [0., 0., 0.],\n",
       "           ...,\n",
       "           [0., 0., 0.],\n",
       "           [0., 0., 0.],\n",
       "           [0., 0., 0.]],\n",
       " \n",
       "          [[0., 0., 0.],\n",
       "           [0., 0., 0.],\n",
       "           [0., 0., 0.],\n",
       "           ...,\n",
       "           [0., 0., 0.],\n",
       "           [0., 0., 0.],\n",
       "           [0., 0., 0.]],\n",
       " \n",
       "          ...,\n",
       " \n",
       "          [[0., 0., 0.],\n",
       "           [0., 0., 0.],\n",
       "           [0., 0., 0.],\n",
       "           ...,\n",
       "           [0., 0., 0.],\n",
       "           [0., 0., 0.],\n",
       "           [0., 0., 0.]],\n",
       " \n",
       "          [[0., 0., 0.],\n",
       "           [0., 0., 0.],\n",
       "           [0., 0., 0.],\n",
       "           ...,\n",
       "           [0., 0., 0.],\n",
       "           [0., 0., 0.],\n",
       "           [0., 0., 0.]],\n",
       " \n",
       "          [[0., 0., 0.],\n",
       "           [0., 0., 0.],\n",
       "           [0., 0., 0.],\n",
       "           ...,\n",
       "           [0., 0., 0.],\n",
       "           [0., 0., 0.],\n",
       "           [0., 0., 0.]]]]),\n",
       " tensor(0))"
      ]
     },
     "execution_count": 23,
     "metadata": {},
     "output_type": "execute_result"
    }
   ],
   "source": [
    "data"
   ]
  },
  {
   "cell_type": "code",
   "execution_count": null,
   "metadata": {},
   "outputs": [],
   "source": [
    "actDataset.append()"
   ]
  },
  {
   "cell_type": "code",
   "execution_count": null,
   "metadata": {},
   "outputs": [],
   "source": [
    "datalst[0]['kp'].shape"
   ]
  },
  {
   "cell_type": "code",
   "execution_count": null,
   "metadata": {},
   "outputs": [],
   "source": [
    "batch_size=4\n",
    "datalst=pds.read_pickle('train.pkl')\n",
    "actDataset=ActionDataset(datalst[0])\n",
    "dataloader=DataLoader(dataset=actDataset,batch_size=batch_size,shuffle=True)\n",
    "n_sample=len(actDataset)\n",
    "epochs=10\n",
    "n_iter=round(n_sample/batch_size)\n",
    "for epoch in range(epochs-8):\n",
    "    for i,data in enumerate (dataloader):\n",
    "        if (i+1)% (batch_size)==0:\n",
    "            print(f'Epoch: {epoch}, Step: {i+1}/{n_iter}, Input shap: {data.shape}')"
   ]
  },
  {
   "cell_type": "code",
   "execution_count": null,
   "metadata": {},
   "outputs": [],
   "source": [
    "import math\n",
    "math.ceil(len(actDataset)/batch_size)"
   ]
  },
  {
   "cell_type": "code",
   "execution_count": null,
   "metadata": {},
   "outputs": [],
   "source": [
    "batch_size=4\n",
    "datalst=pds.read_pickle('train.pkl')\n",
    "actDataset=ActionDataset(datalst[0])\n",
    "dataloader=DataLoader(dataset=actDataset,batch_size=batch_size,shuffle=True)\n",
    "n_sample=len(actDataset)\n",
    "n_iter=round(n_sample/batch_size)\n",
    "model = ModelSTGCN(3,5)\n",
    "lr = 1e-3\n",
    "optim = torch.optim.Adam(model.parameters(),lr)\n",
    "lr_schedule = torch.optim.lr_scheduler.MultiStepLR(optim,[15,30],gamma=0.1)\n",
    "epochs = 10\n",
    "for epoch in range(epochs):\n",
    "    for i,data in enumerate (dataloader):\n",
    "        if (i+1)% (batch_size)==0:\n",
    "            print(f'Epoch: {epoch}, Step: {i+1}/{n_iter}')"
   ]
  }
 ],
 "metadata": {
  "kernelspec": {
   "display_name": "pythonProject",
   "language": "python",
   "name": "python3"
  },
  "language_info": {
   "codemirror_mode": {
    "name": "ipython",
    "version": 3
   },
   "file_extension": ".py",
   "mimetype": "text/x-python",
   "name": "python",
   "nbconvert_exporter": "python",
   "pygments_lexer": "ipython3",
   "version": "3.10.9"
  },
  "orig_nbformat": 4
 },
 "nbformat": 4,
 "nbformat_minor": 2
}
