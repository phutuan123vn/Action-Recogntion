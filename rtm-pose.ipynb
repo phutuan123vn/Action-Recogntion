{
 "cells": [
  {
   "cell_type": "code",
   "execution_count": 1,
   "metadata": {},
   "outputs": [],
   "source": [
    "from mmdeploy_runtime import Detector, PoseDetector\n",
    "import cv2\n",
    "import numpy as np\n",
    "import time\n",
    "from copy import deepcopy \n",
    "# from Pose.Hrnet import Hrnet\n",
    "# from Pose.Yolov7 import Yolov7"
   ]
  },
  {
   "cell_type": "code",
   "execution_count": null,
   "metadata": {},
   "outputs": [],
   "source": [
    "import os.path as osp\n",
    "import os\n",
    "def extract_frame(video_path):\n",
    "    dname = 'temp'\n",
    "    os.makedirs(dname, exist_ok=True)\n",
    "    frame_tmpl = osp.join(dname, 'img_{:05d}.jpg')\n",
    "    cap = cv2.VideoCapture(video_path)\n",
    "    frame_paths = []\n",
    "    cnt = 0\n",
    "    while(cap.isOpened()):\n",
    "        flag, frame = cap.read()\n",
    "        if flag:\n",
    "            frame_path = frame_tmpl.format(cnt + 1)\n",
    "            frame_paths.append(frame_path)\n",
    "\n",
    "            cv2.imwrite(frame_path, frame)\n",
    "            cnt += 1\n",
    "            \n",
    "    return frame_paths\n",
    "\n",
    "extract_frame('Video_Fall1/VIDEO1_2.mp4')"
   ]
  },
  {
   "cell_type": "code",
   "execution_count": 2,
   "metadata": {},
   "outputs": [
    {
     "name": "stdout",
     "output_type": "stream",
     "text": [
      "94.00793428013685 FPS\n",
      "171.42661225308325 FPS\n"
     ]
    }
   ],
   "source": [
    "# hrnet = Hrnet(engine_path='Pose/Hrnet48_fp32.trt')\n",
    "# hrnet.get_fps()\n",
    "# hrnet.destory()\n",
    "# yolov7 = Yolov7(engine_path='Pose/yolov7_fp16.trt')\n",
    "# yolov7.get_fps()\n",
    "# yolov7.destory()"
   ]
  },
  {
   "cell_type": "code",
   "execution_count": 3,
   "metadata": {},
   "outputs": [],
   "source": [
    "# img = cv2.imread('mmpose/tests/data/coco/000000196141.jpg')\n",
    "# det_result = yolov7.inference(img)\n",
    "# pose_result = hrnet.inference_from_bbox(img,det_result)"
   ]
  },
  {
   "cell_type": "code",
   "execution_count": 3,
   "metadata": {},
   "outputs": [],
   "source": [
    "def visualize(frame, anno:dict, thr=0.5, resize=None):\n",
    "    keypoints = anno['keypoints']\n",
    "    bboxes = anno['bbox']\n",
    "    skeleton = [(15, 13), (13, 11), (16, 14), (14, 12), (11, 12), (5, 11),\n",
    "                (6, 12), (5, 6), (5, 7), (6, 8), (7, 9), (8, 10), (1, 2),\n",
    "                (0, 1), (0, 2), (1, 3), (2, 4), (3, 5), (4, 6)]\n",
    "    palette = [(255, 128, 0), (255, 153, 51), (255, 178, 102), (230, 230, 0),\n",
    "               (255, 153, 255), (153, 204, 255), (255, 102, 255),\n",
    "               (255, 51, 255), (102, 178, 255),\n",
    "               (51, 153, 255), (255, 153, 153), (255, 102, 102), (255, 51, 51),\n",
    "               (153, 255, 153), (102, 255, 102), (51, 255, 51), (0, 255, 0),\n",
    "               (0, 0, 255), (255, 0, 0), (255, 255, 255)]\n",
    "    link_color = [\n",
    "        0, 0, 0, 0, 7, 7, 7, 9, 9, 9, 9, 9, 16, 16, 16, 16, 16, 16, 16\n",
    "    ]\n",
    "    point_color = [16, 16, 16, 16, 16, 9, 9, 9, 9, 9, 9, 0, 0, 0, 0, 0, 0]\n",
    "    img = deepcopy(frame)\n",
    "    scores = keypoints[..., 2]\n",
    "    keypoints = (keypoints[..., :2]).astype(int)\n",
    "    if resize:\n",
    "        scale = resize / max(frame.shape[0], frame.shape[1])\n",
    "\n",
    "       \n",
    "        keypoints = (keypoints[..., :2] * scale).astype(int)\n",
    "\n",
    "        img = cv2.resize(frame, (0, 0), fx=scale, fy=scale)\n",
    "    for kpts, score in zip(keypoints, scores):\n",
    "        shows = [0] * len(kpts)\n",
    "        for (u, v), color in zip(skeleton, link_color):\n",
    "            if score[u] > thr and score[v] > thr:\n",
    "                cv2.line(img, kpts[u], tuple(kpts[v]), palette[color], 1,\n",
    "                         cv2.LINE_AA)\n",
    "                shows[u] = shows[v] = 1\n",
    "        for kpt, show, color, bbox in zip(kpts, shows, point_color, bboxes):\n",
    "            if show:\n",
    "                cv2.circle(img, kpt, 1, palette[color], 2, cv2.LINE_AA)\n",
    "        cv2.rectangle(img, (int(bbox[0]), int(bbox[1])),(int(bbox[2]), int(bbox[3])) , (0,255,0), 1)\n",
    "    return img\n",
    "\n",
    "# def visualize(frame, anno, thr=0.5, resize=1280):\n",
    "#     keypoints = anno['keypoints']\n",
    "# #     bboxes = anno['bbox']\n",
    "#     skeleton = [(15, 13), (13, 11), (16, 14), (14, 12), (11, 12), (5, 11),\n",
    "#                 (6, 12), (5, 6), (5, 7), (6, 8), (7, 9), (8, 10), (1, 2),\n",
    "#                 (0, 1), (0, 2), (1, 3), (2, 4), (3, 5), (4, 6)]\n",
    "#     palette = [(255, 128, 0), (255, 153, 51), (255, 178, 102), (230, 230, 0),\n",
    "#                (255, 153, 255), (153, 204, 255), (255, 102, 255),\n",
    "#                (255, 51, 255), (102, 178, 255),\n",
    "#                (51, 153, 255), (255, 153, 153), (255, 102, 102), (255, 51, 51),\n",
    "#                (153, 255, 153), (102, 255, 102), (51, 255, 51), (0, 255, 0),\n",
    "#                (0, 0, 255), (255, 0, 0), (255, 255, 255)]\n",
    "#     link_color = [\n",
    "#         0, 0, 0, 0, 7, 7, 7, 9, 9, 9, 9, 9, 16, 16, 16, 16, 16, 16, 16\n",
    "#     ]\n",
    "#     point_color = [16, 16, 16, 16, 16, 9, 9, 9, 9, 9, 9, 0, 0, 0, 0, 0, 0]\n",
    "\n",
    "#     scale = resize / max(frame.shape[0], frame.shape[1])\n",
    "\n",
    "#     scores = keypoints[..., 2]\n",
    "#     keypoints = (keypoints[..., :2] * scale).astype(int)\n",
    "\n",
    "#     img = cv2.resize(frame, (0, 0), fx=scale, fy=scale)\n",
    "#     for kpts, score in zip(keypoints, scores):\n",
    "#         show = [0] * len(kpts)\n",
    "#         for (u, v), color in zip(skeleton, link_color):\n",
    "#             if score[u] > thr and score[v] > thr:\n",
    "#                 cv2.line(img, kpts[u], tuple(kpts[v]), palette[color], 1,\n",
    "#                          cv2.LINE_AA)\n",
    "#                 show[u] = show[v] = 1\n",
    "#         for kpt, show, color in zip(kpts, show, point_color):\n",
    "#             if show:\n",
    "#                 cv2.circle(img, kpt, 1, palette[color], 2, cv2.LINE_AA)\n",
    "#     return img"
   ]
  },
  {
   "cell_type": "code",
   "execution_count": 2,
   "metadata": {},
   "outputs": [],
   "source": [
    "det_model = Detector('rtmpose-trt/rtmdet-nano/','cuda')\n",
    "pose_model = PoseDetector('rtmpose-trt/rtmpose-m/','cuda')"
   ]
  },
  {
   "cell_type": "code",
   "execution_count": 28,
   "metadata": {},
   "outputs": [],
   "source": [
    "img = cv2.imread('temp/img_00001.jpg')\n",
    "bboxes, labels, _ = det_model(img)\n",
    "keep = np.logical_and(labels == 0, bboxes[..., 4] > 0.7)\n",
    "bboxes1 = bboxes[keep]"
   ]
  },
  {
   "cell_type": "code",
   "execution_count": 31,
   "metadata": {},
   "outputs": [
    {
     "data": {
      "text/plain": [
       "0"
      ]
     },
     "execution_count": 31,
     "metadata": {},
     "output_type": "execute_result"
    }
   ],
   "source": [
    "len(bboxes1)"
   ]
  },
  {
   "cell_type": "code",
   "execution_count": 15,
   "metadata": {},
   "outputs": [],
   "source": [
    "def visualize(frame, anno:dict, thr=0.5, resize=None):\n",
    "    if anno is None:\n",
    "        if resize:\n",
    "            scale = resize / max(frame.shape[0], frame.shape[1])\n",
    "            frame = cv2.resize(frame, (0, 0), fx=scale, fy=scale)\n",
    "        return frame\n",
    "    keypoints = anno['keypoints']\n",
    "    bboxes = anno['bbox']\n",
    "    skeleton = [(15, 13), (13, 11), (16, 14), (14, 12), (11, 12), (5, 11),\n",
    "                (6, 12), (5, 6), (5, 7), (6, 8), (7, 9), (8, 10), (1, 2),\n",
    "                (0, 1), (0, 2), (1, 3), (2, 4), (3, 5), (4, 6)]\n",
    "    palette = [(255, 128, 0), (255, 153, 51), (255, 178, 102), (230, 230, 0),\n",
    "               (255, 153, 255), (153, 204, 255), (255, 102, 255),\n",
    "               (255, 51, 255), (102, 178, 255),\n",
    "               (51, 153, 255), (255, 153, 153), (255, 102, 102), (255, 51, 51),\n",
    "               (153, 255, 153), (102, 255, 102), (51, 255, 51), (0, 255, 0),\n",
    "               (0, 0, 255), (255, 0, 0), (255, 255, 255)]\n",
    "    link_color = [\n",
    "        0, 0, 0, 0, 7, 7, 7, 9, 9, 9, 9, 9, 16, 16, 16, 16, 16, 16, 16\n",
    "    ]\n",
    "    point_color = [16, 16, 16, 16, 16, 9, 9, 9, 9, 9, 9, 0, 0, 0, 0, 0, 0]\n",
    "    img = deepcopy(frame)\n",
    "    scores = keypoints[..., 2]\n",
    "    keypoints = (keypoints[..., :2]).astype(int)\n",
    "    if resize:\n",
    "        scale = resize / max(frame.shape[0], frame.shape[1])\n",
    "\n",
    "       \n",
    "        keypoints = (keypoints[..., :2] * scale).astype(int)\n",
    "        for i,b in enumerate(bboxes):\n",
    "            bboxes[i] = b*scale\n",
    "        img = cv2.resize(frame, (0, 0), fx=scale, fy=scale)\n",
    "    for kpts, score,bbox in zip(keypoints, scores, bboxes):\n",
    "        shows = [0] * len(kpts)\n",
    "        for (u, v), color in zip(skeleton, link_color):\n",
    "            if score[u] > thr and score[v] > thr:\n",
    "                cv2.line(img, tuple(kpts[u]), tuple(kpts[v]), palette[color], 1,\n",
    "                         cv2.LINE_AA)\n",
    "                shows[u] = shows[v] = 1\n",
    "        for kpt, show, color in zip(kpts, shows, point_color):\n",
    "            if show:\n",
    "               cv2.circle(img, kpt, 1, palette[color], 2, cv2.LINE_AA)\n",
    "        cv2.rectangle(img, (int(bbox[0]), int(bbox[1])),(int(bbox[2]), int(bbox[3])) , (0,255,0), 1)\n",
    "    return img"
   ]
  },
  {
   "cell_type": "code",
   "execution_count": 16,
   "metadata": {},
   "outputs": [
    {
     "data": {
      "text/plain": [
       "-1"
      ]
     },
     "execution_count": 16,
     "metadata": {},
     "output_type": "execute_result"
    }
   ],
   "source": [
    "# def visualize(frame, anno:dict, thr=0.5, resize=None):\n",
    "#     if anno is not None:\n",
    "#         keypoints = anno['keypoints']\n",
    "#         bboxes = anno['bbox']\n",
    "#     if resize:\n",
    "#         scale = resize / max(frame.shape[0], frame.shape[1])\n",
    "#         img = cv2.resize(frame, (0, 0), fx=scale, fy=scale)\n",
    "#         if anno is None:\n",
    "#             return img\n",
    "#         keypoints = (keypoints[..., :2] * scale).astype(int)\n",
    "#         for i,b in enumerate(bboxes):\n",
    "#             bboxes[i] = b*scale\n",
    "#     if anno is None:\n",
    "#         return frame\n",
    "#     skeleton = [(15, 13), (13, 11), (16, 14), (14, 12), (11, 12), (5, 11),\n",
    "#                 (6, 12), (5, 6), (5, 7), (6, 8), (7, 9), (8, 10), (1, 2),\n",
    "#                 (0, 1), (0, 2), (1, 3), (2, 4), (3, 5), (4, 6)]\n",
    "#     palette = [(255, 128, 0), (255, 153, 51), (255, 178, 102), (230, 230, 0),\n",
    "#                (255, 153, 255), (153, 204, 255), (255, 102, 255),\n",
    "#                (255, 51, 255), (102, 178, 255),\n",
    "#                (51, 153, 255), (255, 153, 153), (255, 102, 102), (255, 51, 51),\n",
    "#                (153, 255, 153), (102, 255, 102), (51, 255, 51), (0, 255, 0),\n",
    "#                (0, 0, 255), (255, 0, 0), (255, 255, 255)]\n",
    "#     link_color = [\n",
    "#         0, 0, 0, 0, 7, 7, 7, 9, 9, 9, 9, 9, 16, 16, 16, 16, 16, 16, 16\n",
    "#     ]\n",
    "#     point_color = [16, 16, 16, 16, 16, 9, 9, 9, 9, 9, 9, 0, 0, 0, 0, 0, 0]\n",
    "#     # img = deepcopy(frame)\n",
    "#     scores = keypoints[..., 2]\n",
    "#     keypoints = (keypoints[..., :2]).astype(int)\n",
    "#     for kpts, score,bbox in zip(keypoints, scores, bboxes):\n",
    "#         shows = [0] * len(kpts)\n",
    "#         for (u, v), color in zip(skeleton, link_color):\n",
    "#             if score[u] > thr and score[v] > thr:\n",
    "#                 cv2.line(img, tuple(kpts[u]), tuple(kpts[v]), palette[color], 1,\n",
    "#                          cv2.LINE_AA)\n",
    "#                 shows[u] = shows[v] = 1\n",
    "#         for kpt, show, color in zip(kpts, shows, point_color):\n",
    "#             if show:\n",
    "#                cv2.circle(img, kpt, 1, palette[color], 2, cv2.LINE_AA)\n",
    "#         cv2.rectangle(img, (int(bbox[0]), int(bbox[1])),(int(bbox[2]), int(bbox[3])) , (0,255,0), 1)\n",
    "#     return img\n",
    "\n",
    "img = cv2.imread('Image/img_00001.jpg')\n",
    "bboxes, labels, _ = det_model(img)\n",
    "keep = np.logical_and(labels == 0, bboxes[..., 4] > 0.7)\n",
    "bboxes = bboxes[keep]\n",
    "if len(bboxes) == 0:\n",
    "    anno = None\n",
    "else:\n",
    "    bbox = []\n",
    "    score_det = []\n",
    "    for item in bboxes:\n",
    "        bbox.append(item[...,:4])\n",
    "        score_det.append(item[4])\n",
    "    keypoints = pose_model(img,bbox)\n",
    "    anno = dict()\n",
    "    anno['bbox'] = bbox\n",
    "    anno['keypoints'] = keypoints\n",
    "img_o = visualize(img,anno,resize=640)\n",
    "cv2.imshow('',img_o)\n",
    "cv2.waitKey(-1)"
   ]
  },
  {
   "cell_type": "code",
   "execution_count": 14,
   "metadata": {},
   "outputs": [
    {
     "data": {
      "text/plain": [
       "(3, 3)"
      ]
     },
     "execution_count": 14,
     "metadata": {},
     "output_type": "execute_result"
    }
   ],
   "source": [
    "len(bbox), len(keypoints)"
   ]
  },
  {
   "cell_type": "code",
   "execution_count": 50,
   "metadata": {},
   "outputs": [],
   "source": [
    "a = [i for i in range(4)]\n",
    "b = [i+1 for i in range(4)]\n",
    "c = [i+2 for i in range(4)]\n",
    "d = [i+3 for i in range(4)]"
   ]
  },
  {
   "cell_type": "code",
   "execution_count": 51,
   "metadata": {},
   "outputs": [
    {
     "name": "stdout",
     "output_type": "stream",
     "text": [
      "0 1 2 3\n",
      "1 2 3 4\n",
      "2 3 4 5\n",
      "3 4 5 6\n"
     ]
    }
   ],
   "source": [
    "for aa,bb,cc,dd in zip(a,b,c,d):\n",
    "    print(aa,bb,cc,dd)"
   ]
  },
  {
   "cell_type": "code",
   "execution_count": 48,
   "metadata": {},
   "outputs": [],
   "source": [
    "result = det_model(img)"
   ]
  },
  {
   "cell_type": "code",
   "execution_count": 81,
   "metadata": {},
   "outputs": [],
   "source": [
    "bboxes, labels, _ = result"
   ]
  },
  {
   "cell_type": "code",
   "execution_count": 51,
   "metadata": {},
   "outputs": [],
   "source": [
    "keep = np.logical_and(labels == 0, bboxes[..., 4] > 0.6)\n",
    "bboxes1 = bboxes[keep,:4]"
   ]
  },
  {
   "cell_type": "code",
   "execution_count": 42,
   "metadata": {},
   "outputs": [],
   "source": [
    "bboxes2 = bboxes[keep]"
   ]
  },
  {
   "cell_type": "code",
   "execution_count": 46,
   "metadata": {},
   "outputs": [
    {
     "data": {
      "text/plain": [
       "-1"
      ]
     },
     "execution_count": 46,
     "metadata": {},
     "output_type": "execute_result"
    }
   ],
   "source": [
    "# img = cv2.imread('Image/img_00001.jpg')\n",
    "bboxes, labels, _ = det_model(img)\n",
    "keep = np.logical_and(labels == 0, bboxes[..., 4] > 0.7)\n",
    "bboxes = bboxes[keep]\n",
    "bbox = []\n",
    "score_det = []\n",
    "for item in bboxes:\n",
    "    bbox.append(item[...,:4])\n",
    "    score_det.append(item[4])\n",
    "keypoints = pose_model(img,bbox)\n",
    "anno = dict()\n",
    "anno['bbox'] = bbox\n",
    "anno['keypoints'] = keypoints\n",
    "img_o = visualize(img,anno,thr=0.5)\n",
    "cv2.imshow('',img_o)\n",
    "cv2.waitKey(-1)"
   ]
  },
  {
   "cell_type": "code",
   "execution_count": 40,
   "metadata": {},
   "outputs": [
    {
     "data": {
      "text/plain": [
       "(858, 1280, 3)"
      ]
     },
     "execution_count": 40,
     "metadata": {},
     "output_type": "execute_result"
    }
   ],
   "source": [
    "img_o.shape"
   ]
  },
  {
   "cell_type": "code",
   "execution_count": 24,
   "metadata": {},
   "outputs": [
    {
     "data": {
      "text/plain": [
       "{'bbox': [array([ 36.980553 ,   1.3494898, 199.61458  , 354.34442  ], dtype=float32)],\n",
       " 'keypoints': array([[[123.56154   ,  57.40497   ,   0.8976282 ],\n",
       "         [130.45387   ,  48.76245   ,   0.967244  ],\n",
       "         [117.53078   ,  49.62668   ,   0.9553641 ],\n",
       "         [141.65382   ,  40.98416   ,   0.95445657],\n",
       "         [108.05385   ,  41.84842   ,   0.9428457 ],\n",
       "         [161.46925   ,  66.047516  ,   0.8510432 ],\n",
       "         [ 91.68465   ,  77.28281   ,   0.8237685 ],\n",
       "         [151.99232   , 129.138     ,   0.89654493],\n",
       "         [111.500015  , 137.78055   ,   0.85989505],\n",
       "         [144.23848   , 177.53622   ,   0.7529628 ],\n",
       "         [132.1769    , 187.90726   ,   0.83874285],\n",
       "         [151.13075   , 165.43665   ,   0.7373272 ],\n",
       "         [103.74617   , 165.43665   ,   0.706004  ],\n",
       "         [170.94618   , 238.03394   ,   0.84957266],\n",
       "         [ 80.484604  , 235.44116   ,   0.85689986],\n",
       "         [182.14613   , 322.73074   ,   0.9464668 ],\n",
       "         [ 55.500015  , 318.40945   ,   0.9652223 ]]], dtype=float32)}"
      ]
     },
     "execution_count": 24,
     "metadata": {},
     "output_type": "execute_result"
    }
   ],
   "source": [
    "anno"
   ]
  },
  {
   "cell_type": "code",
   "execution_count": 20,
   "metadata": {},
   "outputs": [],
   "source": [
    "bboxes, labels, _ = det_model(img)\n",
    "keep = np.logical_and(labels == 0, bboxes[..., 4] > 0.7)\n",
    "bbox = []\n",
    "score_det = []\n",
    "bboxes = bboxes[keep]\n",
    "# bboxes = bboxes[0]\n",
    "bbox.append(bboxes[0,:4])\n",
    "score_det = bboxes[0,4]\n",
    "keypoints = pose_model(img,bbox)\n",
    "anno = dict()\n",
    "anno['bbox'] = bbox\n",
    "anno['keypoints'] = keypoints\n"
   ]
  },
  {
   "cell_type": "code",
   "execution_count": 18,
   "metadata": {},
   "outputs": [],
   "source": [
    "bbox"
   ]
  },
  {
   "cell_type": "code",
   "execution_count": 22,
   "metadata": {},
   "outputs": [
    {
     "name": "stdout",
     "output_type": "stream",
     "text": [
      "RTM-Pose: \n",
      "{'bbox': [array([245.50363 ,  74.826294, 417.49356 , 367.39346 ], dtype=float32)], 'keypoints': array([[[300.92188   , 112.76367   ,   0.9510821 ],\n",
      "        [303.78647   , 107.74609   ,   0.9043638 ],\n",
      "        [300.20575   , 107.0293    ,   0.8778724 ],\n",
      "        [315.96094   , 111.33008   ,   0.7930349 ],\n",
      "        [328.85156   , 101.29492   ,   0.6546844 ],\n",
      "        [325.987     , 143.58594   ,   0.73849547],\n",
      "        [353.9167    , 114.91406   ,   0.83227235],\n",
      "        [295.90887   , 167.95703   ,   0.8247163 ],\n",
      "        [316.6771    , 131.40039   ,   0.71336913],\n",
      "        [267.9792    , 155.77148   ,   0.8414177 ],\n",
      "        [278.72137   , 142.15234   ,   0.7866514 ],\n",
      "        [328.13544   , 218.13281   ,   0.68726873],\n",
      "        [346.75522   , 213.11523   ,   0.52360314],\n",
      "        [324.5547    , 296.26367   ,   0.7868002 ],\n",
      "        [281.58594   , 265.4414    ,   0.8362156 ],\n",
      "        [391.87244   , 329.23633   ,   0.67278886],\n",
      "        [287.31512   , 343.57227   ,   0.81489193]]], dtype=float32)}\n"
     ]
    }
   ],
   "source": [
    "# print(f'Hrnet: \\n{pose_result}')\n",
    "print(f'RTM-Pose: \\n{anno}')"
   ]
  },
  {
   "cell_type": "code",
   "execution_count": null,
   "metadata": {},
   "outputs": [],
   "source": []
  }
 ],
 "metadata": {
  "kernelspec": {
   "display_name": "pythonProject",
   "language": "python",
   "name": "python3"
  },
  "language_info": {
   "codemirror_mode": {
    "name": "ipython",
    "version": 3
   },
   "file_extension": ".py",
   "mimetype": "text/x-python",
   "name": "python",
   "nbconvert_exporter": "python",
   "pygments_lexer": "ipython3",
   "version": "3.10.9"
  },
  "orig_nbformat": 4
 },
 "nbformat": 4,
 "nbformat_minor": 2
}
