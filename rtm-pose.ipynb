{
 "cells": [
  {
   "cell_type": "code",
   "execution_count": 1,
   "metadata": {},
   "outputs": [],
   "source": [
    "from mmdeploy_runtime import Detector,PoseDetector\n",
    "import cv2\n",
    "import numpy as np\n",
    "import time\n",
    "from copy import deepcopy "
   ]
  },
  {
   "cell_type": "code",
   "execution_count": null,
   "metadata": {},
   "outputs": [],
   "source": []
  },
  {
   "cell_type": "code",
   "execution_count": 2,
   "metadata": {},
   "outputs": [],
   "source": [
    "det_model = Detector('rtm-pose/rtmdet-nano/','cuda')\n",
    "pose_model = PoseDetector('rtm-pose/rtmpose-m/','cuda')"
   ]
  },
  {
   "cell_type": "code",
   "execution_count": 3,
   "metadata": {},
   "outputs": [],
   "source": [
    "img = cv2.imread('mmdeploy/demo/resources/human-pose.jpg')\n"
   ]
  },
  {
   "cell_type": "code",
   "execution_count": 4,
   "metadata": {},
   "outputs": [],
   "source": [
    "result = det_model(img)"
   ]
  },
  {
   "cell_type": "code",
   "execution_count": 5,
   "metadata": {},
   "outputs": [],
   "source": [
    "bboxes, labels, _ = result"
   ]
  },
  {
   "cell_type": "code",
   "execution_count": 8,
   "metadata": {},
   "outputs": [
    {
     "data": {
      "text/plain": [
       "array([[7.03422666e-01, 6.54465139e-01, 2.16919708e+02, 3.30006409e+02,\n",
       "        8.47006977e-01],\n",
       "       [6.32764320e+01, 8.53223354e-02, 1.10888824e+02, 7.71810379e+01,\n",
       "        1.94046050e-01],\n",
       "       [1.38146271e+02, 3.14815826e+02, 2.17000000e+02, 3.45000000e+02,\n",
       "        1.10033423e-01],\n",
       "       [1.22944153e+02, 5.92403946e+01, 2.15467850e+02, 3.31181549e+02,\n",
       "        9.80338156e-02],\n",
       "       [1.44086365e+02, 3.25847107e+02, 2.11675110e+02, 3.45000000e+02,\n",
       "        9.79310274e-02],\n",
       "       [1.46952393e+02, 2.95056366e+02, 1.59545029e+02, 3.22895538e+02,\n",
       "        9.57999825e-02],\n",
       "       [1.29044434e+02, 2.81792725e+02, 1.45641663e+02, 3.23232452e+02,\n",
       "        9.53992903e-02],\n",
       "       [1.46979340e+02, 2.85716339e+02, 1.64834717e+02, 3.23786163e+02,\n",
       "        8.24018717e-02],\n",
       "       [7.44832535e+01, 1.84639908e+02, 1.46730881e+02, 3.21973999e+02,\n",
       "        7.80263841e-02],\n",
       "       [2.00250238e-01, 1.75701484e-01, 1.17353691e+02, 3.03171570e+02,\n",
       "        7.67248273e-02],\n",
       "       [7.95193024e+01, 1.68551331e+02, 2.16275833e+02, 3.24699036e+02,\n",
       "        7.66681433e-02],\n",
       "       [1.33398697e+02, 2.81494781e+02, 1.60196106e+02, 3.23486053e+02,\n",
       "        7.53107965e-02],\n",
       "       [6.27758217e+01, 0.00000000e+00, 1.22286041e+02, 1.05865356e+02,\n",
       "        7.44484365e-02],\n",
       "       [1.24558960e+02, 3.27783875e+02, 1.98586273e+02, 3.45000000e+02,\n",
       "        7.24460781e-02],\n",
       "       [7.64671097e+01, 3.16221313e+02, 2.16360001e+02, 3.45000000e+02,\n",
       "        6.82857037e-02],\n",
       "       [2.41572642e+00, 0.00000000e+00, 1.37871124e+02, 1.72326904e+02,\n",
       "        6.66042268e-02],\n",
       "       [7.72841492e+01, 2.62954926e+02, 2.17000000e+02, 3.44350769e+02,\n",
       "        6.51725531e-02],\n",
       "       [1.41719131e+02, 3.09401398e+02, 2.16601852e+02, 3.36058441e+02,\n",
       "        6.50207698e-02],\n",
       "       [1.50178192e+02, 2.81416870e+02, 1.71610992e+02, 3.24026550e+02,\n",
       "        6.45680428e-02],\n",
       "       [6.32056503e+01, 1.59384400e-01, 1.82022751e+02, 1.67037842e+02,\n",
       "        6.37130737e-02],\n",
       "       [1.79173737e+02, 1.23207598e+01, 1.83443192e+02, 1.98271980e+01,\n",
       "        6.31944835e-02],\n",
       "       [1.30240082e+02, 2.02550125e+02, 2.17000000e+02, 3.35940369e+02,\n",
       "        5.80763221e-02],\n",
       "       [1.40068939e+02, 2.53858337e+02, 2.17000000e+02, 3.44154083e+02,\n",
       "        5.10998070e-02],\n",
       "       [8.83075485e+01, 2.79072174e+02, 1.44832962e+02, 3.20167664e+02,\n",
       "        5.06379008e-02]], dtype=float32)"
      ]
     },
     "execution_count": 8,
     "metadata": {},
     "output_type": "execute_result"
    }
   ],
   "source": [
    "bboxes"
   ]
  },
  {
   "cell_type": "code",
   "execution_count": 9,
   "metadata": {},
   "outputs": [],
   "source": [
    "keep = np.logical_and(labels == 0, bboxes[..., 4] > 0.05)\n",
    "bboxes1 = bboxes[keep,:4]"
   ]
  },
  {
   "cell_type": "code",
   "execution_count": 11,
   "metadata": {},
   "outputs": [
    {
     "data": {
      "text/plain": [
       "(24, 4)"
      ]
     },
     "execution_count": 11,
     "metadata": {},
     "output_type": "execute_result"
    }
   ],
   "source": [
    "bboxes1.shape"
   ]
  },
  {
   "cell_type": "code",
   "execution_count": null,
   "metadata": {},
   "outputs": [],
   "source": [
    "poses = pose_model(img, bboxes1)"
   ]
  },
  {
   "cell_type": "code",
   "execution_count": null,
   "metadata": {},
   "outputs": [],
   "source": [
    "def visualize(frame, keypoints, thr=0.5, resize=None):\n",
    "    skeleton = [(15, 13), (13, 11), (16, 14), (14, 12), (11, 12), (5, 11),\n",
    "                (6, 12), (5, 6), (5, 7), (6, 8), (7, 9), (8, 10), (1, 2),\n",
    "                (0, 1), (0, 2), (1, 3), (2, 4), (3, 5), (4, 6)]\n",
    "    palette = [(255, 128, 0), (255, 153, 51), (255, 178, 102), (230, 230, 0),\n",
    "               (255, 153, 255), (153, 204, 255), (255, 102, 255),\n",
    "               (255, 51, 255), (102, 178, 255),\n",
    "               (51, 153, 255), (255, 153, 153), (255, 102, 102), (255, 51, 51),\n",
    "               (153, 255, 153), (102, 255, 102), (51, 255, 51), (0, 255, 0),\n",
    "               (0, 0, 255), (255, 0, 0), (255, 255, 255)]\n",
    "    link_color = [\n",
    "        0, 0, 0, 0, 7, 7, 7, 9, 9, 9, 9, 9, 16, 16, 16, 16, 16, 16, 16\n",
    "    ]\n",
    "    point_color = [16, 16, 16, 16, 16, 9, 9, 9, 9, 9, 9, 0, 0, 0, 0, 0, 0]\n",
    "    img = deepcopy(frame)\n",
    "    scores = keypoints[..., 2]\n",
    "    keypoints = (keypoints[..., :2]).astype(int)\n",
    "    if resize:\n",
    "        scale = resize / max(frame.shape[0], frame.shape[1])\n",
    "\n",
    "       \n",
    "        keypoints = (keypoints[..., :2] * scale).astype(int)\n",
    "\n",
    "        img = cv2.resize(frame, (0, 0), fx=scale, fy=scale)\n",
    "    for kpts, score in zip(keypoints, scores):\n",
    "        show = [0] * len(kpts)\n",
    "        for (u, v), color in zip(skeleton, link_color):\n",
    "            if score[u] > thr and score[v] > thr:\n",
    "                cv2.line(img, kpts[u], tuple(kpts[v]), palette[color], 1,\n",
    "                         cv2.LINE_AA)\n",
    "                show[u] = show[v] = 1\n",
    "        for kpt, show, color in zip(kpts, show, point_color):\n",
    "            if show:\n",
    "                cv2.circle(img, kpt, 1, palette[color], 2, cv2.LINE_AA)\n",
    "    return img\n",
    "\n",
    "img_o = visualize(img,poses,thr=0.5)\n",
    "cv2.imshow('',img_o)\n",
    "cv2.waitKey(-1)"
   ]
  }
 ],
 "metadata": {
  "kernelspec": {
   "display_name": "pythonProject",
   "language": "python",
   "name": "python3"
  },
  "language_info": {
   "codemirror_mode": {
    "name": "ipython",
    "version": 3
   },
   "file_extension": ".py",
   "mimetype": "text/x-python",
   "name": "python",
   "nbconvert_exporter": "python",
   "pygments_lexer": "ipython3",
   "version": "3.10.9"
  },
  "orig_nbformat": 4
 },
 "nbformat": 4,
 "nbformat_minor": 2
}
