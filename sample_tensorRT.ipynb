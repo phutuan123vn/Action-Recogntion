{
 "cells": [
  {
   "cell_type": "code",
   "execution_count": 1,
   "metadata": {},
   "outputs": [
    {
     "name": "stderr",
     "output_type": "stream",
     "text": [
      "c:\\Users\\ADMIN\\anaconda3\\envs\\pythonProject\\lib\\site-packages\\tqdm\\auto.py:22: TqdmWarning: IProgress not found. Please update jupyter and ipywidgets. See https://ipywidgets.readthedocs.io/en/stable/user_install.html\n",
      "  from .autonotebook import tqdm as notebook_tqdm\n"
     ]
    }
   ],
   "source": [
    "import cv2\n",
    "import os.path as osp\n",
    "import os\n",
    "import glob\n",
    "import numpy as np\n",
    "import shutil\n",
    "from Pose.Hrnet import Hrnet\n",
    "from Pose.Yolov7 import Yolov7\n",
    "from sklearn.model_selection import train_test_split\n",
    "import mmcv.utils.progressbar as progressbar\n",
    "import shutil\n",
    "# import mmcv"
   ]
  },
  {
   "cell_type": "code",
   "execution_count": 7,
   "metadata": {},
   "outputs": [
    {
     "name": "stdout",
     "output_type": "stream",
     "text": [
      "97.09303454669741 FPS\n",
      "161.16814672421467 FPS\n"
     ]
    }
   ],
   "source": [
    "pose_model = Hrnet(engine_path='Pose/Hrnet48_fp32.trt')\n",
    "pose_model.get_fps()\n",
    "pose_model.destory()\n",
    "det_model = Yolov7(engine_path='Pose/yolov7_fp16.trt')\n",
    "det_model.get_fps()\n",
    "det_model.destory()"
   ]
  },
  {
   "cell_type": "code",
   "execution_count": null,
   "metadata": {},
   "outputs": [],
   "source": [
    "skeleton_edge = [(15, 13), (13, 11), (16, 14), (14, 12), (11, 12),\n",
    "                                (5, 11), (6, 12), (5, 6), (5, 7), (6, 8), (7, 9),\n",
    "                                (8, 10), (1, 2), (0, 1), (0, 2), (1, 3), (2, 4),\n",
    "                                (3, 5), (4, 6)]\n",
    "\n",
    "def inference_image(img,detect:Yolov7,pose:Hrnet):\n",
    "    det_results = detect.inference(img)\n",
    "    pose_results = pose.inference_from_bbox(img,det_results)\n",
    "    return pose_results\n",
    "\n",
    "\n",
    "\n",
    "def vis_pose(image, pose_result,threshold = 0.5):\n",
    "        bbox = []\n",
    "        bbox_score = []\n",
    "        keypoints = []\n",
    "        keypoints_score = []\n",
    "        if pose_result is None:\n",
    "            return image\n",
    "        for pos in pose_result:\n",
    "            bbox.append(pos['bbox'][:4])\n",
    "            bbox_score.append(pos['bbox'][4])\n",
    "            keypoints.append(pos['keypoints'][:,:2])\n",
    "            keypoints_score.append(pos['keypoints'][:,2])\n",
    "        # max_score_indx = np.argmax(bbox_score)\n",
    "        # bbox = bbox[max_score_indx]\n",
    "        # keypoints = keypoints[max_score_indx]\n",
    "        # skeleton_features = pose_result[max_score_indx]['keypoints']\n",
    "        # keypoints = keypoints\n",
    "        # for edge in skeleton_edge:\n",
    "        #     start = keypoints[edge[0]]\n",
    "        #     end = keypoints[edge[1]]\n",
    "        #     image = cv2.line(image, (int(start[0]), int(start[1])), (int(end[0]), int(end[1])), (255,255,0), 2)\n",
    "        # for i in range(17):\n",
    "        #     (x, y) = keypoints[i]\n",
    "        # #     if self.label[i] == 0:\n",
    "        # #         color = (255, 255, 255)\n",
    "        # #     elif self.label[i] == 1:\n",
    "        # #         color = (0, 0, 255)\n",
    "        # #     elif self.label[i] == 2:\n",
    "        # #         color = (255, 0, 0)\n",
    "        #     image = cv2.circle(image, (int(x), int(y)), 4, (255, 255, 255), -1)\n",
    "\n",
    "        # image = cv2.rectangle(image, (int(bbox[0]), int(bbox[1])),(int(bbox[2]), int(bbox[3])) , (0,255,0), 1)\n",
    "        # return image\n",
    "        max_score_indx = np.argmax(bbox_score)\n",
    "        bbox = bbox[max_score_indx]\n",
    "        keypoints = keypoints[max_score_indx]\n",
    "        keypoints_score = keypoints_score[max_score_indx]\n",
    "        skeleton_features = pose_result[max_score_indx]['keypoints']\n",
    "        keypoints = keypoints\n",
    "        for edge in skeleton_edge:\n",
    "            start = keypoints[edge[0]]\n",
    "            end = keypoints[edge[1]]\n",
    "            # image = cv2.line(image, (int(start[0]), int(start[1])), (int(end[0]), int(end[1])), (255,255,0), 2)\n",
    "            if keypoints_score[edge[0]] < threshold or keypoints_score[edge[1]] < threshold:\n",
    "                continue\n",
    "            image = cv2.line(image, (int(start[0]), int(start[1])), (int(end[0]), int(end[1])), (255, 255, 0), 2)\n",
    "        for i in range(17):\n",
    "            (x, y) = keypoints[i]\n",
    "            if keypoints_score[i] < threshold:\n",
    "                continue\n",
    "            image = cv2.circle(image, (int(x), int(y)), 4, (255, 255, 255), -1)\n",
    "\n",
    "        image = cv2.rectangle(image, (int(bbox[0]), int(bbox[1])),(int(bbox[2]), int(bbox[3])) , (0,255,0), 1)\n",
    "        return image\n",
    "\n",
    "def extract_frame(video_path):\n",
    "    dname = 'temp'\n",
    "    os.makedirs(dname, exist_ok=True)\n",
    "    frame_tmpl = osp.join(dname, 'img_{:05d}.jpg')\n",
    "    cap = cv2.VideoCapture(video_path)\n",
    "    frame_paths = []\n",
    "    cnt = 0\n",
    "    while(cap.isOpened()):\n",
    "        flag, frame = cap.read()\n",
    "        if flag:\n",
    "            frame_path = frame_tmpl.format(cnt + 1)\n",
    "            frame_paths.append(frame_path)\n",
    "            frame=cv2.resize(frame,(640,480))\n",
    "            cv2.imwrite(frame_path, frame)\n",
    "            cnt += 1\n",
    "        else: break\n",
    "    cap.release()\n",
    "    return frame_paths\n",
    "\n",
    "def detection_inference(det_model:Yolov7,frame_paths,det_score=0.5):\n",
    "    results = []\n",
    "    print('Performing Human Detection for each frame')\n",
    "    prog_bar = progressbar.ProgressBar(len(frame_paths))\n",
    "    for frame_path in frame_paths:\n",
    "        img = cv2.imread(frame_path)\n",
    "        result = det_model.inference(img,det_score)\n",
    "        # We only keep human detections with score larger than det_score_thr\n",
    "        if len(result[2]) == 0:\n",
    "            results.append(result)\n",
    "            prog_bar.update()\n",
    "            continue\n",
    "        person_id = result[2] == 0\n",
    "        bbox = result[0][person_id]\n",
    "        score = result[1][person_id]\n",
    "        indx = result[2][result[2]==0]\n",
    "        results.append((bbox,score,indx))\n",
    "        prog_bar.update()\n",
    "    return results\n",
    "\n",
    "def pose_inference(pose_model:Hrnet,frame_paths,det_results):\n",
    "    print('Performing Human Pose Estimation for each frame')\n",
    "    prog_bar = progressbar.ProgressBar(len(frame_paths))\n",
    "    num_frame = len(det_results)\n",
    "    num_person = max([len(x[2]) for x in det_results])\n",
    "    if num_person == 0:\n",
    "        kp = np.zeros((1,num_frame,17,3),dtype=np.float32)\n",
    "        return kp\n",
    "    kp = np.zeros((num_person,num_frame,17,3))\n",
    "    for i ,(f,d) in enumerate(zip(frame_paths,det_results)):\n",
    "        img = cv2.imread(f)\n",
    "        pose_result = pose_model.inference_from_bbox(img,d)\n",
    "        if pose_result is None:\n",
    "            for person_id in range(num_person):\n",
    "                kp[person_id,i] = kp[person_id,i-1]\n",
    "        else:\n",
    "            for j,item in enumerate(pose_result):\n",
    "                kp [j,i] = item[\"keypoints\"]            \n",
    "        # if len(d[2]) == 0:\n",
    "        #     for person_id in range(num_person):\n",
    "        #         kp[person_id,i] = kp[person_id,i-1]\n",
    "        #     prog_bar.update()\n",
    "        #     continue\n",
    "        vis_image = vis_pose(img,pose_result)\n",
    "        cv2.imshow('',vis_image)\n",
    "        if cv2.waitKey(20)& 0xFF==ord('q'): break\n",
    "        prog_bar.update()\n",
    "    cv2.destroyAllWindows()\n",
    "    return kp\n",
    "\n",
    "def pose_extraction(vid,label,pose_model:Hrnet=pose_model,det_model:Yolov7=det_model,det_score=0.5):\n",
    "    frame_paths = extract_frame(vid)\n",
    "    det_results = detection_inference(det_model,frame_paths,det_score)\n",
    "    img = cv2.imread(frame_paths[0])\n",
    "    img_shape = (img.shape[1],img.shape[0])\n",
    "    pose_results = pose_inference(pose_model,frame_paths,det_results)\n",
    "    anno = dict()\n",
    "    anno['kp'] = pose_results\n",
    "    anno['img_shape'] = img_shape\n",
    "    anno['total_frames'] = pose_results.shape[1]\n",
    "    anno['label'] = label\n",
    "    shutil.rmtree(osp.dirname(frame_paths[0]))\n",
    "    return anno\n",
    "    "
   ]
  },
  {
   "cell_type": "code",
   "execution_count": 2,
   "metadata": {},
   "outputs": [],
   "source": [
    "# lst_dstTrain = glob.glob(\"Train & Val/TRAIN/*\")\n",
    "# lst_dstVal = glob.glob(\"Train & Val/VAL/*\")\n",
    "folder_path = \"Train & Val\"  # Replace with the actual folder path\n",
    "# Recursively iterate over all files and directories\n",
    "for root, dirs, files in os.walk(folder_path):\n",
    "    for filename in files:\n",
    "        file_path = os.path.join(root, filename)\n",
    "        \n",
    "        # Check if the file has the desired extension\n",
    "        if filename.endswith('.mp4'):\n",
    "            # Delete the file\n",
    "            os.remove(file_path)"
   ]
  },
  {
   "cell_type": "code",
   "execution_count": 3,
   "metadata": {},
   "outputs": [],
   "source": [
    "listfiles = []\n",
    "listfiles.append(glob.glob('TRAIN/STAND/*.mp4'))\n",
    "listfiles.append(glob.glob('TRAIN/WALK/*.mp4'))\n",
    "listfiles.append(glob.glob('TRAIN/RUN/*.mp4'))\n",
    "listfiles.append(glob.glob('TRAIN/JUMP/*.mp4'))\n",
    "listfiles.append(glob.glob('TRAIN/FALL/*.mp4'))\n",
    "listfiles.append(glob.glob('TRAIN/SIT_DOWN/*.mp4'))\n",
    "listfiles.append(glob.glob('TRAIN/LYING/*.mp4'))\n",
    "listfiles.append(glob.glob('TRAIN/GET_UP/*.mp4'))"
   ]
  },
  {
   "cell_type": "code",
   "execution_count": 4,
   "metadata": {},
   "outputs": [],
   "source": [
    "lst_train = []\n",
    "lst_val = []\n",
    "for files in listfiles:\n",
    "    train,val = train_test_split(files,test_size=0.3,shuffle=True)\n",
    "    lst_train.append(train)\n",
    "    lst_val.append(val)"
   ]
  },
  {
   "cell_type": "code",
   "execution_count": 6,
   "metadata": {},
   "outputs": [],
   "source": [
    "for lst_folder,paths in zip([lst_train,lst_val],['/TRAIN/','/VAL/']):\n",
    "    for files in lst_folder:\n",
    "        for file in files:\n",
    "            new_path = os.path.relpath(file, \"train\")\n",
    "            shutil.copy2(file,folder_path + paths + new_path)\n",
    "    "
   ]
  },
  {
   "cell_type": "code",
   "execution_count": null,
   "metadata": {},
   "outputs": [],
   "source": [
    "del new_path\n",
    "del listfiles\n",
    "del root,dirs,file_path,paths"
   ]
  },
  {
   "cell_type": "code",
   "execution_count": null,
   "metadata": {},
   "outputs": [],
   "source": [
    "anno_train = []\n",
    "anno_val = []\n",
    "for lst_folder,anno_folder in zip([lst_train,lst_val],[anno_train,anno_val]):\n",
    "    for index,files in enumerate(lst_folder):\n",
    "        for file in files:\n",
    "            print('Processing ' + file)\n",
    "            anno = pose_extraction(file,index,det_score=0.5) #LABEL NOT_FALL\n",
    "            anno_train.append(anno)"
   ]
  },
  {
   "cell_type": "code",
   "execution_count": null,
   "metadata": {},
   "outputs": [],
   "source": [
    "anno_train[0]['label']"
   ]
  },
  {
   "cell_type": "code",
   "execution_count": null,
   "metadata": {},
   "outputs": [],
   "source": [
    "import mmengine.fileio as fileio\n",
    "fileio.dump(anno_train,'Data/RUN_WALK_FALL_SIT_new.pkl')"
   ]
  },
  {
   "cell_type": "code",
   "execution_count": null,
   "metadata": {},
   "outputs": [],
   "source": [
    "# lst_index = [2,1,4,6]\n",
    "for ano in anno_train:\n",
    "    if ano['label'] == 2: ano['label'] = 0\n",
    "    elif ano['label'] == 1: ano['label'] = 1\n",
    "    elif ano['label'] == 4: ano['label'] = 2\n",
    "    else: ano['label'] = 3"
   ]
  },
  {
   "cell_type": "code",
   "execution_count": null,
   "metadata": {},
   "outputs": [],
   "source": [
    "fileio.dump(anno_train,'Data/TRAIN RUN_WALK_FALL_SIT_new.pkl')"
   ]
  },
  {
   "cell_type": "code",
   "execution_count": null,
   "metadata": {},
   "outputs": [],
   "source": [
    "import pandas as pd\n",
    "pd.to_pickle(anno_train,'Data/pickle_file/Run_Walk_Fall_Sit.pkl')"
   ]
  },
  {
   "cell_type": "code",
   "execution_count": null,
   "metadata": {},
   "outputs": [],
   "source": [
    "anno2 = pd.read_pickle('Data/pickle_file/Run_Walk_Fall_Sit.pkl')"
   ]
  },
  {
   "cell_type": "code",
   "execution_count": null,
   "metadata": {},
   "outputs": [],
   "source": [
    "len(anno2)"
   ]
  },
  {
   "cell_type": "code",
   "execution_count": null,
   "metadata": {},
   "outputs": [],
   "source": [
    "\n",
    "# files=glob.glob('VIDEO_TEST/*.mp4')\n",
    "# file='VIDEO_TEST/VIDEO11.mp4'\n",
    "lstfile = []\n",
    "# lstfile.append(sorted(glob.glob('TRAIN/NOT FALL/*.mp4'),key=os.path.getmtime))\n",
    "lstfile.append(sorted(glob.glob('TRAIN/FALL/*.mp4'),key=os.path.getmtime))\n",
    "# lstfile.append(sorted(glob.glob('Video_Lying/*.mp4'),key=os.path.getmtime))\n",
    "# lstfile=sorted(key=os.path.getmtime)\n",
    "anno_train = []\n",
    "for index,files in enumerate(lstfile):\n",
    "    for file in files:\n",
    "        print('Processing ' + file)\n",
    "        anno = pose_extraction(file,1,det_score=0.8) #LABEL NOT_FALL\n",
    "        anno_train.append(anno)"
   ]
  },
  {
   "cell_type": "code",
   "execution_count": null,
   "metadata": {},
   "outputs": [],
   "source": [
    "# mmcv.dump(anno,'Data/Fall.pkl')"
   ]
  },
  {
   "cell_type": "code",
   "execution_count": null,
   "metadata": {},
   "outputs": [],
   "source": [
    "# file='C:/Users/PhuTuan/Downloads/Video/Data_fall_171.mp4'\n",
    "# # anno = pose_extraction(file,0,det_score=0.8)"
   ]
  },
  {
   "cell_type": "code",
   "execution_count": null,
   "metadata": {},
   "outputs": [],
   "source": [
    "# frame_paths = extract_frame(file)\n",
    "# det_results = detection_inference(yolov7,frame_paths,0.8)\n",
    "# img = cv2.imread(frame_paths[0])\n",
    "# img_shape = (img.shape[1],img.shape[0])"
   ]
  },
  {
   "cell_type": "code",
   "execution_count": null,
   "metadata": {},
   "outputs": [],
   "source": [
    "# pose_results = pose_inference(hrnet,frame_paths,det_results)"
   ]
  },
  {
   "cell_type": "code",
   "execution_count": null,
   "metadata": {},
   "outputs": [],
   "source": [
    "# anno = dict()\n",
    "# anno['kp'] = pose_results\n",
    "# anno['img_shape'] = img_shape\n",
    "# anno['total_frames'] = pose_results.shape[1]"
   ]
  },
  {
   "cell_type": "code",
   "execution_count": null,
   "metadata": {},
   "outputs": [],
   "source": [
    "# det_results[70]"
   ]
  },
  {
   "cell_type": "code",
   "execution_count": null,
   "metadata": {},
   "outputs": [],
   "source": [
    "# frame_paths = extract_frame(file)\n",
    "# det_results = detection_inference(yolov7,frame_paths,0.8)\n",
    "# img = cv2.imread(frame_paths[0])\n",
    "# img_shape = (img.shape[1],img.shape[0])\n",
    "# pose_results = pose_inference(hrnet,frame_paths,det_results)\n",
    "# anno = dict()\n",
    "# anno['kp'] = pose_results\n",
    "# anno['img_shape'] = img_shape\n",
    "# anno['total_frames'] = pose_results.shape[1]"
   ]
  },
  {
   "cell_type": "code",
   "execution_count": null,
   "metadata": {},
   "outputs": [],
   "source": [
    "# img = cv2.imread(frame_paths[71])\n",
    "# result = yolov7.inference(img,0.8)"
   ]
  },
  {
   "cell_type": "code",
   "execution_count": null,
   "metadata": {},
   "outputs": [],
   "source": [
    "# result[2] == 0"
   ]
  }
 ],
 "metadata": {
  "kernelspec": {
   "display_name": "pythonProject",
   "language": "python",
   "name": "python3"
  },
  "language_info": {
   "codemirror_mode": {
    "name": "ipython",
    "version": 3
   },
   "file_extension": ".py",
   "mimetype": "text/x-python",
   "name": "python",
   "nbconvert_exporter": "python",
   "pygments_lexer": "ipython3",
   "version": "3.10.9"
  },
  "orig_nbformat": 4
 },
 "nbformat": 4,
 "nbformat_minor": 2
}
